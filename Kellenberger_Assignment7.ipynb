{
 "cells": [
  {
   "cell_type": "markdown",
   "metadata": {},
   "source": [
    "# Assignment 7"
   ]
  },
  {
   "cell_type": "code",
   "execution_count": 1,
   "metadata": {},
   "outputs": [],
   "source": [
    "import arcpy\n",
    "from arcgis.gis import GIS\n",
    "\n",
    "import pandas as pd\n",
    "from arcgis.features import GeoAccessor, GeoSeriesAccessor\n",
    "\n",
    "import numpy as np\n",
    "import matplotlib.pyplot as plt\n",
    "%matplotlib inline"
   ]
  },
  {
   "cell_type": "code",
   "execution_count": 2,
   "metadata": {},
   "outputs": [],
   "source": [
    "gis = GIS()"
   ]
  },
  {
   "cell_type": "markdown",
   "metadata": {},
   "source": [
    "## Initialize Data"
   ]
  },
  {
   "cell_type": "code",
   "execution_count": 3,
   "metadata": {},
   "outputs": [],
   "source": [
    "arcpy.env.workspace = r\"C:\\Users\\drewt\\Desktop\\Stuff\\college\\GEOG4324\\Kellenberger_Assignment7\"\n",
    "arcpy.env.overwriteOutput = True\n",
    "\n",
    "buildings = 'Buildings.shp'\n",
    "pavement = 'Edge_of_Pavement.shp'\n",
    "sidewalks = 'Sidewalks.shp'\n",
    "neighborhoods = \"Neighborhoods.shp\""
   ]
  },
  {
   "cell_type": "code",
   "execution_count": 14,
   "metadata": {},
   "outputs": [
    {
     "data": {
      "text/html": [
       "<div class='gpresult'><h2>Messages</h2><div id='messages' data-messages='[\"Start Time: Tuesday, March 28, 2023 4:38:17 PM\",\"Adding area to Neighborhoods...\",\"Succeeded at Tuesday, March 28, 2023 4:38:17 PM (Elapsed Time: 0.06 seconds)\"]' data-show='true'><div id = 'default' /></div></div>"
      ],
      "text/plain": [
       "<Result 'C:\\\\Users\\\\drewt\\\\Desktop\\\\Stuff\\\\college\\\\GEOG4324\\\\Kellenberger_Assignment7\\\\Neighborhoods.shp'>"
      ]
     },
     "execution_count": 14,
     "metadata": {},
     "output_type": "execute_result"
    }
   ],
   "source": [
    "arcpy.management.AddField(neighborhoods, \"area\", \"FLOAT\")"
   ]
  },
  {
   "cell_type": "code",
   "execution_count": 15,
   "metadata": {},
   "outputs": [
    {
     "data": {
      "text/html": [
       "<div class='gpresult'><h2>Messages</h2><div id='messages' data-messages='[\"Start Time: Tuesday, March 28, 2023 4:38:20 PM\",\"Succeeded at Tuesday, March 28, 2023 4:38:20 PM (Elapsed Time: 0.38 seconds)\"]' data-show='true'><div id = 'default' /></div></div>"
      ],
      "text/plain": [
       "<Result 'C:\\\\Users\\\\drewt\\\\Desktop\\\\Stuff\\\\college\\\\GEOG4324\\\\Kellenberger_Assignment7\\\\Neighborhoods.shp'>"
      ]
     },
     "execution_count": 15,
     "metadata": {},
     "output_type": "execute_result"
    }
   ],
   "source": [
    "arcpy.management.CalculateGeometryAttributes(neighborhoods, [['area', \"AREA_GEODESIC\"]], \"\", \"SQUARE_METERS\")"
   ]
  },
  {
   "cell_type": "markdown",
   "metadata": {},
   "source": [
    "## Calculate Percentage of Features by Neighborhood"
   ]
  },
  {
   "cell_type": "code",
   "execution_count": 17,
   "metadata": {},
   "outputs": [
    {
     "data": {
      "text/html": [
       "<div class='gpresult'><h2>Messages</h2><div id='messages' data-messages='[\"Start Time: Tuesday, March 28, 2023 4:39:39 PM\",\"Succeeded at Tuesday, March 28, 2023 4:39:46 PM (Elapsed Time: 7.51 seconds)\"]' data-show='true'><div id = 'default' /></div></div>"
      ],
      "text/plain": [
       "<Result 'C:\\\\Users\\\\drewt\\\\Desktop\\\\Stuff\\\\college\\\\GEOG4324\\\\Kellenberger_Assignment7\\\\Kellenberger_Assignment7.gdb\\\\Neighborhoods_Buildings'>"
      ]
     },
     "execution_count": 17,
     "metadata": {},
     "output_type": "execute_result"
    }
   ],
   "source": [
    "arcpy.analysis.SummarizeWithin(\n",
    "    in_polygons=neighborhoods,\n",
    "    in_sum_features=buildings,\n",
    "    out_feature_class=r\"C:\\Users\\drewt\\Desktop\\Stuff\\college\\GEOG4324\\Kellenberger_Assignment7\\Kellenberger_Assignment7.gdb\\Neighborhoods_Buildings\",\n",
    "    shape_unit=\"SQUAREMETERS\"\n",
    ")"
   ]
  },
  {
   "cell_type": "code",
   "execution_count": 18,
   "metadata": {},
   "outputs": [
    {
     "data": {
      "text/html": [
       "<div class='gpresult'><h2>Messages</h2><div id='messages' data-messages='[\"Start Time: Tuesday, March 28, 2023 4:39:48 PM\",\"Succeeded at Tuesday, March 28, 2023 4:39:56 PM (Elapsed Time: 8.31 seconds)\"]' data-show='true'><div id = 'default' /></div></div>"
      ],
      "text/plain": [
       "<Result 'C:\\\\Users\\\\drewt\\\\Desktop\\\\Stuff\\\\college\\\\GEOG4324\\\\Kellenberger_Assignment7\\\\Kellenberger_Assignment7.gdb\\\\Neighborhoods_Pavement'>"
      ]
     },
     "execution_count": 18,
     "metadata": {},
     "output_type": "execute_result"
    }
   ],
   "source": [
    "arcpy.analysis.SummarizeWithin(\n",
    "    in_polygons=neighborhoods,\n",
    "    in_sum_features=pavement,\n",
    "    out_feature_class=r\"C:\\Users\\drewt\\Desktop\\Stuff\\college\\GEOG4324\\Kellenberger_Assignment7\\Kellenberger_Assignment7.gdb\\Neighborhoods_Pavement\",\n",
    "    shape_unit=\"SQUAREMETERS\"\n",
    ")"
   ]
  },
  {
   "cell_type": "code",
   "execution_count": 16,
   "metadata": {},
   "outputs": [
    {
     "data": {
      "text/html": [
       "<div class='gpresult'><h2>Messages</h2><div id='messages' data-messages='[\"Start Time: Tuesday, March 28, 2023 4:38:43 PM\",\"Succeeded at Tuesday, March 28, 2023 4:38:51 PM (Elapsed Time: 7.80 seconds)\"]' data-show='true'><div id = 'default' /></div></div>"
      ],
      "text/plain": [
       "<Result 'C:\\\\Users\\\\drewt\\\\Desktop\\\\Stuff\\\\college\\\\GEOG4324\\\\Kellenberger_Assignment7\\\\Kellenberger_Assignment7.gdb\\\\Neighborhoods_Sidewalks'>"
      ]
     },
     "execution_count": 16,
     "metadata": {},
     "output_type": "execute_result"
    }
   ],
   "source": [
    "arcpy.analysis.SummarizeWithin(\n",
    "    in_polygons=neighborhoods,\n",
    "    in_sum_features=sidewalks,\n",
    "    out_feature_class=r\"C:\\Users\\drewt\\Desktop\\Stuff\\college\\GEOG4324\\Kellenberger_Assignment7\\Kellenberger_Assignment7.gdb\\Neighborhoods_Sidewalks\",\n",
    "    shape_unit=\"SQUAREMETERS\"\n",
    ")"
   ]
  },
  {
   "cell_type": "code",
   "execution_count": 49,
   "metadata": {},
   "outputs": [
    {
     "data": {
      "text/html": [
       "<div class='gpresult'><h2>Messages</h2><div id='messages' data-messages='[\"Start Time: Thursday, March 30, 2023 3:07:22 PM\",\"Succeeded at Thursday, March 30, 2023 3:07:22 PM (Elapsed Time: 0.23 seconds)\"]' data-show='true'><div id = 'default' /></div></div>"
      ],
      "text/plain": [
       "<Result 'Neighborhoods_Pavement'>"
      ]
     },
     "execution_count": 49,
     "metadata": {},
     "output_type": "execute_result"
    }
   ],
   "source": [
    "arcpy.management.AddField('Neighborhoods_Pavement', \"percentage\", \"FLOAT\")\n",
    "arcpy.management.CalculateField('Neighborhoods_Pavement', 'percentage', '(!sum_Area_SQUAREMETERS!/!area!)*100')"
   ]
  },
  {
   "cell_type": "code",
   "execution_count": 50,
   "metadata": {},
   "outputs": [
    {
     "data": {
      "text/html": [
       "<div class='gpresult'><h2>Messages</h2><div id='messages' data-messages='[\"Start Time: Thursday, March 30, 2023 3:07:25 PM\",\"Succeeded at Thursday, March 30, 2023 3:07:25 PM (Elapsed Time: 0.24 seconds)\"]' data-show='true'><div id = 'default' /></div></div>"
      ],
      "text/plain": [
       "<Result 'Neighborhoods_Buildings'>"
      ]
     },
     "execution_count": 50,
     "metadata": {},
     "output_type": "execute_result"
    }
   ],
   "source": [
    "arcpy.management.AddField('Neighborhoods_Buildings', \"percentage\", \"FLOAT\")\n",
    "arcpy.management.CalculateField('Neighborhoods_Buildings', 'percentage', '(!sum_Area_SQUAREMETERS!/!area!)*100')"
   ]
  },
  {
   "cell_type": "code",
   "execution_count": 51,
   "metadata": {},
   "outputs": [
    {
     "data": {
      "text/html": [
       "<div class='gpresult'><h2>Messages</h2><div id='messages' data-messages='[\"Start Time: Thursday, March 30, 2023 3:07:26 PM\",\"Succeeded at Thursday, March 30, 2023 3:07:27 PM (Elapsed Time: 0.26 seconds)\"]' data-show='true'><div id = 'default' /></div></div>"
      ],
      "text/plain": [
       "<Result 'Neighborhoods_Sidewalks'>"
      ]
     },
     "execution_count": 51,
     "metadata": {},
     "output_type": "execute_result"
    }
   ],
   "source": [
    "arcpy.management.AddField('Neighborhoods_Sidewalks', \"percentage\", \"FLOAT\")\n",
    "arcpy.management.CalculateField('Neighborhoods_Sidewalks', 'percentage', '(!sum_Area_SQUAREMETERS!/!area!)*100')"
   ]
  },
  {
   "cell_type": "markdown",
   "metadata": {},
   "source": [
    "## Starting Analysis"
   ]
  },
  {
   "cell_type": "markdown",
   "metadata": {},
   "source": [
    "### 1. See if there is a correlation between Median Household Income and the Percentage of pavement in a neighborhood."
   ]
  },
  {
   "cell_type": "code",
   "execution_count": 52,
   "metadata": {},
   "outputs": [
    {
     "data": {
      "text/html": [
       "<div class='gpresult'><h2>Messages</h2><div id='messages' data-messages='[\"Start Time: Thursday, March 30, 2023 3:08:09 PM\",\"Succeeded at Thursday, March 30, 2023 3:08:11 PM (Elapsed Time: 2.12 seconds)\"]' data-show='true'><div id = 'default' /></div></div>"
      ],
      "text/plain": [
       "<Result 'C:\\\\Users\\\\drewt\\\\Desktop\\\\Stuff\\\\college\\\\GEOG4324\\\\Kellenberger_Assignment7\\\\Kellenberger_Assignment7.gdb\\\\Neighborhoods_Pavement_Enrich'>"
      ]
     },
     "execution_count": 52,
     "metadata": {},
     "output_type": "execute_result"
    }
   ],
   "source": [
    "arcpy.analysis.Enrich(\n",
    "    in_features=\"Neighborhoods_Pavement\",\n",
    "    out_feature_class=r\"C:\\Users\\drewt\\Desktop\\Stuff\\college\\GEOG4324\\Kellenberger_Assignment7\\Kellenberger_Assignment7.gdb\\Neighborhoods_Pavement_Enrich\",\n",
    "    variables=\"householdincome.MEDHINC_CY\",\n",
    "    buffer_type=\"\",\n",
    "    distance=1,\n",
    "    unit=\"\"\n",
    ")"
   ]
  },
  {
   "cell_type": "code",
   "execution_count": 7,
   "metadata": {
    "scrolled": true
   },
   "outputs": [
    {
     "data": {
      "text/html": [
       "<div>\n",
       "<style scoped>\n",
       "    .dataframe tbody tr th:only-of-type {\n",
       "        vertical-align: middle;\n",
       "    }\n",
       "\n",
       "    .dataframe tbody tr th {\n",
       "        vertical-align: top;\n",
       "    }\n",
       "\n",
       "    .dataframe thead th {\n",
       "        text-align: right;\n",
       "    }\n",
       "</style>\n",
       "<table border=\"1\" class=\"dataframe\">\n",
       "  <thead>\n",
       "    <tr style=\"text-align: right;\">\n",
       "      <th></th>\n",
       "      <th>OBJECTID</th>\n",
       "      <th>Blacksburg</th>\n",
       "      <th>PERIMETER</th>\n",
       "      <th>HOODS_</th>\n",
       "      <th>HOODS_ID</th>\n",
       "      <th>ACAD_TEXT</th>\n",
       "      <th>AreaRatio</th>\n",
       "      <th>Real_ID</th>\n",
       "      <th>area</th>\n",
       "      <th>sum_Area_SQUAREMETERS</th>\n",
       "      <th>Polygon_Count</th>\n",
       "      <th>percentage</th>\n",
       "      <th>aggregationMethod</th>\n",
       "      <th>HasData</th>\n",
       "      <th>ORIGINAL_OID</th>\n",
       "      <th>sourceCountry</th>\n",
       "      <th>apportionmentConfidence</th>\n",
       "      <th>populationToPolygonSizeRating</th>\n",
       "      <th>householdincome_MEDHINC_CY</th>\n",
       "      <th>SHAPE</th>\n",
       "    </tr>\n",
       "  </thead>\n",
       "  <tbody>\n",
       "    <tr>\n",
       "      <th>0</th>\n",
       "      <td>1</td>\n",
       "      <td>33919200.0</td>\n",
       "      <td>32857.91</td>\n",
       "      <td>2.0</td>\n",
       "      <td>92.0</td>\n",
       "      <td>Northend</td>\n",
       "      <td>0.000000</td>\n",
       "      <td>1</td>\n",
       "      <td>3151540.0</td>\n",
       "      <td>91901.306948</td>\n",
       "      <td>60</td>\n",
       "      <td>2.916076</td>\n",
       "      <td>BlockApportionment:US.BlockGroups;PointsLayer:...</td>\n",
       "      <td>1</td>\n",
       "      <td>1</td>\n",
       "      <td>US</td>\n",
       "      <td>2.576</td>\n",
       "      <td>2.191</td>\n",
       "      <td>90663.0</td>\n",
       "      <td>{\"rings\": [[[10930174.000024095, 3626244.74985...</td>\n",
       "    </tr>\n",
       "    <tr>\n",
       "      <th>1</th>\n",
       "      <td>2</td>\n",
       "      <td>18048600.0</td>\n",
       "      <td>17850.67</td>\n",
       "      <td>4.0</td>\n",
       "      <td>91.0</td>\n",
       "      <td>Northside Park</td>\n",
       "      <td>1.640782</td>\n",
       "      <td>2</td>\n",
       "      <td>1676960.0</td>\n",
       "      <td>158195.268535</td>\n",
       "      <td>425</td>\n",
       "      <td>9.433455</td>\n",
       "      <td>BlockApportionment:US.BlockGroups;PointsLayer:...</td>\n",
       "      <td>1</td>\n",
       "      <td>2</td>\n",
       "      <td>US</td>\n",
       "      <td>2.576</td>\n",
       "      <td>2.191</td>\n",
       "      <td>92773.0</td>\n",
       "      <td>{\"rings\": [[[10925379.000099674, 3626181.74998...</td>\n",
       "    </tr>\n",
       "    <tr>\n",
       "      <th>2</th>\n",
       "      <td>3</td>\n",
       "      <td>114996000.0</td>\n",
       "      <td>74639.47</td>\n",
       "      <td>5.0</td>\n",
       "      <td>93.0</td>\n",
       "      <td>Tom's Creek</td>\n",
       "      <td>0.000000</td>\n",
       "      <td>22</td>\n",
       "      <td>10684600.0</td>\n",
       "      <td>345314.317718</td>\n",
       "      <td>669</td>\n",
       "      <td>3.231888</td>\n",
       "      <td>BlockApportionment:US.BlockGroups;PointsLayer:...</td>\n",
       "      <td>1</td>\n",
       "      <td>3</td>\n",
       "      <td>US</td>\n",
       "      <td>2.576</td>\n",
       "      <td>2.191</td>\n",
       "      <td>127660.0</td>\n",
       "      <td>{\"rings\": [[[10919218.99995251, 3624748.249899...</td>\n",
       "    </tr>\n",
       "    <tr>\n",
       "      <th>3</th>\n",
       "      <td>4</td>\n",
       "      <td>10531100.0</td>\n",
       "      <td>19088.92</td>\n",
       "      <td>6.0</td>\n",
       "      <td>89.0</td>\n",
       "      <td>Main/Patrick Henry</td>\n",
       "      <td>0.000000</td>\n",
       "      <td>4</td>\n",
       "      <td>978482.0</td>\n",
       "      <td>185728.848770</td>\n",
       "      <td>303</td>\n",
       "      <td>18.981325</td>\n",
       "      <td>BlockApportionment:US.BlockGroups;PointsLayer:...</td>\n",
       "      <td>1</td>\n",
       "      <td>4</td>\n",
       "      <td>US</td>\n",
       "      <td>2.576</td>\n",
       "      <td>2.191</td>\n",
       "      <td>61028.0</td>\n",
       "      <td>{\"rings\": [[[10926938.999932423, 3622980.25015...</td>\n",
       "    </tr>\n",
       "    <tr>\n",
       "      <th>4</th>\n",
       "      <td>5</td>\n",
       "      <td>7748780.0</td>\n",
       "      <td>11958.65</td>\n",
       "      <td>7.0</td>\n",
       "      <td>87.0</td>\n",
       "      <td>Murphy</td>\n",
       "      <td>0.704435</td>\n",
       "      <td>5</td>\n",
       "      <td>719964.0</td>\n",
       "      <td>38127.871372</td>\n",
       "      <td>95</td>\n",
       "      <td>5.295803</td>\n",
       "      <td>BlockApportionment:US.BlockGroups;PointsLayer:...</td>\n",
       "      <td>1</td>\n",
       "      <td>5</td>\n",
       "      <td>US</td>\n",
       "      <td>2.576</td>\n",
       "      <td>2.191</td>\n",
       "      <td>62680.0</td>\n",
       "      <td>{\"rings\": [[[10926391.000044167, 3618395.50013...</td>\n",
       "    </tr>\n",
       "  </tbody>\n",
       "</table>\n",
       "</div>"
      ],
      "text/plain": [
       "   OBJECTID  ...                                              SHAPE\n",
       "0         1  ...  {\"rings\": [[[10930174.000024095, 3626244.74985...\n",
       "1         2  ...  {\"rings\": [[[10925379.000099674, 3626181.74998...\n",
       "2         3  ...  {\"rings\": [[[10919218.99995251, 3624748.249899...\n",
       "3         4  ...  {\"rings\": [[[10926938.999932423, 3622980.25015...\n",
       "4         5  ...  {\"rings\": [[[10926391.000044167, 3618395.50013...\n",
       "\n",
       "[5 rows x 20 columns]"
      ]
     },
     "execution_count": 7,
     "metadata": {},
     "output_type": "execute_result"
    }
   ],
   "source": [
    "pavement_df = pd.DataFrame.spatial.from_featureclass(r\"C:\\Users\\drewt\\Desktop\\Stuff\\college\\GEOG4324\\Kellenberger_Assignment7\\Kellenberger_Assignment7.gdb\\Neighborhoods_Pavement_Enrich\")\n",
    "pavement_df.head()"
   ]
  },
  {
   "cell_type": "code",
   "execution_count": 8,
   "metadata": {},
   "outputs": [
    {
     "data": {
      "text/plain": [
       "Text(0, 0.5, 'Median Household Income (in USD)')"
      ]
     },
     "execution_count": 8,
     "metadata": {},
     "output_type": "execute_result"
    },
    {
     "data": {
      "image/png": "[encoded data removed]",
      "text/plain": [
       "<Figure size 640x480 with 1 Axes>"
      ]
     },
     "metadata": {},
     "output_type": "display_data"
    }
   ],
   "source": [
    "plt.scatter(pavement_df['percentage'], pavement_df['householdincome_MEDHINC_CY'])\n",
    "plt.xlabel(\"Percentage of Pavement Land Use Area\")\n",
    "plt.ylabel(\"Median Household Income (in USD)\")"
   ]
  },
  {
   "cell_type": "markdown",
   "metadata": {},
   "source": [
    "This graph shows that there is a negative relationship between median household income and the percentage of pavement in a neioghborhood. As the percentage of pavement land use increases, the median household income decreases."
   ]
  },
  {
   "cell_type": "markdown",
   "metadata": {},
   "source": [
    "### 2. Show if there is a relationship between Average Home Value and the Percentage of Buildings in a neighborhood"
   ]
  },
  {
   "cell_type": "code",
   "execution_count": 4,
   "metadata": {},
   "outputs": [
    {
     "data": {
      "text/html": [
       "<div class='gpresult'><h2>Messages</h2><div id='messages' data-messages='[\"Start Time: Thursday, March 30, 2023 3:20:58 PM\",\"Succeeded at Thursday, March 30, 2023 3:21:00 PM (Elapsed Time: 1.77 seconds)\"]' data-show='true'><div id = 'default' /></div></div>"
      ],
      "text/plain": [
       "<Result 'C:\\\\Users\\\\drewt\\\\Desktop\\\\Stuff\\\\college\\\\GEOG4324\\\\Kellenberger_Assignment7\\\\Kellenberger_Assignment7.gdb\\\\Neighborhoods_Buildings_Enrich'>"
      ]
     },
     "execution_count": 4,
     "metadata": {},
     "output_type": "execute_result"
    }
   ],
   "source": [
    "arcpy.analysis.Enrich(\n",
    "    in_features=\"Neighborhoods_Buildings\",\n",
    "    out_feature_class=r\"C:\\Users\\drewt\\Desktop\\Stuff\\college\\GEOG4324\\Kellenberger_Assignment7\\Kellenberger_Assignment7.gdb\\Neighborhoods_Buildings_Enrich\",\n",
    "    variables=\"Wealth.AVGVAL_CY\",\n",
    "    buffer_type=\"\",\n",
    "    distance=1,\n",
    "    unit=\"\"\n",
    ")"
   ]
  },
  {
   "cell_type": "code",
   "execution_count": 9,
   "metadata": {},
   "outputs": [
    {
     "data": {
      "text/html": [
       "<div>\n",
       "<style scoped>\n",
       "    .dataframe tbody tr th:only-of-type {\n",
       "        vertical-align: middle;\n",
       "    }\n",
       "\n",
       "    .dataframe tbody tr th {\n",
       "        vertical-align: top;\n",
       "    }\n",
       "\n",
       "    .dataframe thead th {\n",
       "        text-align: right;\n",
       "    }\n",
       "</style>\n",
       "<table border=\"1\" class=\"dataframe\">\n",
       "  <thead>\n",
       "    <tr style=\"text-align: right;\">\n",
       "      <th></th>\n",
       "      <th>OBJECTID</th>\n",
       "      <th>Blacksburg</th>\n",
       "      <th>PERIMETER</th>\n",
       "      <th>HOODS_</th>\n",
       "      <th>HOODS_ID</th>\n",
       "      <th>ACAD_TEXT</th>\n",
       "      <th>AreaRatio</th>\n",
       "      <th>Real_ID</th>\n",
       "      <th>area</th>\n",
       "      <th>sum_Area_SQUAREMETERS</th>\n",
       "      <th>Polygon_Count</th>\n",
       "      <th>percentage</th>\n",
       "      <th>aggregationMethod</th>\n",
       "      <th>HasData</th>\n",
       "      <th>ORIGINAL_OID</th>\n",
       "      <th>sourceCountry</th>\n",
       "      <th>apportionmentConfidence</th>\n",
       "      <th>populationToPolygonSizeRating</th>\n",
       "      <th>Wealth_AVGVAL_CY</th>\n",
       "      <th>SHAPE</th>\n",
       "    </tr>\n",
       "  </thead>\n",
       "  <tbody>\n",
       "    <tr>\n",
       "      <th>0</th>\n",
       "      <td>1</td>\n",
       "      <td>33919200.0</td>\n",
       "      <td>32857.91</td>\n",
       "      <td>2.0</td>\n",
       "      <td>92.0</td>\n",
       "      <td>Northend</td>\n",
       "      <td>0.000000</td>\n",
       "      <td>1</td>\n",
       "      <td>3151540.0</td>\n",
       "      <td>22329.749837</td>\n",
       "      <td>160</td>\n",
       "      <td>0.708535</td>\n",
       "      <td>BlockApportionment:US.BlockGroups;PointsLayer:...</td>\n",
       "      <td>1</td>\n",
       "      <td>1</td>\n",
       "      <td>US</td>\n",
       "      <td>2.576</td>\n",
       "      <td>2.191</td>\n",
       "      <td>417722.0</td>\n",
       "      <td>{\"rings\": [[[10930174.000024095, 3626244.74985...</td>\n",
       "    </tr>\n",
       "    <tr>\n",
       "      <th>1</th>\n",
       "      <td>2</td>\n",
       "      <td>18048600.0</td>\n",
       "      <td>17850.67</td>\n",
       "      <td>4.0</td>\n",
       "      <td>91.0</td>\n",
       "      <td>Northside Park</td>\n",
       "      <td>1.640782</td>\n",
       "      <td>2</td>\n",
       "      <td>1676960.0</td>\n",
       "      <td>86841.540492</td>\n",
       "      <td>557</td>\n",
       "      <td>5.178510</td>\n",
       "      <td>BlockApportionment:US.BlockGroups;PointsLayer:...</td>\n",
       "      <td>1</td>\n",
       "      <td>2</td>\n",
       "      <td>US</td>\n",
       "      <td>2.576</td>\n",
       "      <td>2.191</td>\n",
       "      <td>364819.0</td>\n",
       "      <td>{\"rings\": [[[10925379.000099674, 3626181.74998...</td>\n",
       "    </tr>\n",
       "    <tr>\n",
       "      <th>2</th>\n",
       "      <td>3</td>\n",
       "      <td>114996000.0</td>\n",
       "      <td>74639.47</td>\n",
       "      <td>5.0</td>\n",
       "      <td>93.0</td>\n",
       "      <td>Tom's Creek</td>\n",
       "      <td>0.000000</td>\n",
       "      <td>22</td>\n",
       "      <td>10684600.0</td>\n",
       "      <td>135074.897697</td>\n",
       "      <td>939</td>\n",
       "      <td>1.264202</td>\n",
       "      <td>BlockApportionment:US.BlockGroups;PointsLayer:...</td>\n",
       "      <td>1</td>\n",
       "      <td>3</td>\n",
       "      <td>US</td>\n",
       "      <td>2.576</td>\n",
       "      <td>2.191</td>\n",
       "      <td>446686.0</td>\n",
       "      <td>{\"rings\": [[[10919218.99995251, 3624748.249899...</td>\n",
       "    </tr>\n",
       "    <tr>\n",
       "      <th>3</th>\n",
       "      <td>4</td>\n",
       "      <td>10531100.0</td>\n",
       "      <td>19088.92</td>\n",
       "      <td>6.0</td>\n",
       "      <td>89.0</td>\n",
       "      <td>Main/Patrick Henry</td>\n",
       "      <td>0.000000</td>\n",
       "      <td>4</td>\n",
       "      <td>978482.0</td>\n",
       "      <td>99366.496914</td>\n",
       "      <td>385</td>\n",
       "      <td>10.155169</td>\n",
       "      <td>BlockApportionment:US.BlockGroups;PointsLayer:...</td>\n",
       "      <td>1</td>\n",
       "      <td>4</td>\n",
       "      <td>US</td>\n",
       "      <td>2.576</td>\n",
       "      <td>2.191</td>\n",
       "      <td>361938.0</td>\n",
       "      <td>{\"rings\": [[[10926938.999932423, 3622980.25015...</td>\n",
       "    </tr>\n",
       "    <tr>\n",
       "      <th>4</th>\n",
       "      <td>5</td>\n",
       "      <td>7748780.0</td>\n",
       "      <td>11958.65</td>\n",
       "      <td>7.0</td>\n",
       "      <td>87.0</td>\n",
       "      <td>Murphy</td>\n",
       "      <td>0.704435</td>\n",
       "      <td>5</td>\n",
       "      <td>719964.0</td>\n",
       "      <td>23766.286949</td>\n",
       "      <td>147</td>\n",
       "      <td>3.301038</td>\n",
       "      <td>BlockApportionment:US.BlockGroups;PointsLayer:...</td>\n",
       "      <td>1</td>\n",
       "      <td>5</td>\n",
       "      <td>US</td>\n",
       "      <td>2.576</td>\n",
       "      <td>2.191</td>\n",
       "      <td>366667.0</td>\n",
       "      <td>{\"rings\": [[[10926391.000044167, 3618395.50013...</td>\n",
       "    </tr>\n",
       "  </tbody>\n",
       "</table>\n",
       "</div>"
      ],
      "text/plain": [
       "   OBJECTID  ...                                              SHAPE\n",
       "0         1  ...  {\"rings\": [[[10930174.000024095, 3626244.74985...\n",
       "1         2  ...  {\"rings\": [[[10925379.000099674, 3626181.74998...\n",
       "2         3  ...  {\"rings\": [[[10919218.99995251, 3624748.249899...\n",
       "3         4  ...  {\"rings\": [[[10926938.999932423, 3622980.25015...\n",
       "4         5  ...  {\"rings\": [[[10926391.000044167, 3618395.50013...\n",
       "\n",
       "[5 rows x 20 columns]"
      ]
     },
     "execution_count": 9,
     "metadata": {},
     "output_type": "execute_result"
    }
   ],
   "source": [
    "buildings_df = pd.DataFrame.spatial.from_featureclass(r\"C:\\Users\\drewt\\Desktop\\Stuff\\college\\GEOG4324\\Kellenberger_Assignment7\\Kellenberger_Assignment7.gdb\\Neighborhoods_Buildings_Enrich\")\n",
    "buildings_df.head()"
   ]
  },
  {
   "cell_type": "code",
   "execution_count": 11,
   "metadata": {},
   "outputs": [
    {
     "data": {
      "text/plain": [
       "Text(0, 0.5, 'Average Home Value (in USD)')"
      ]
     },
     "execution_count": 11,
     "metadata": {},
     "output_type": "execute_result"
    },
    {
     "data": {
      "image/png": "[encoded data removed]",
      "text/plain": [
       "<Figure size 640x480 with 1 Axes>"
      ]
     },
     "metadata": {},
     "output_type": "display_data"
    }
   ],
   "source": [
    "plt.scatter(buildings_df['percentage'], buildings_df['Wealth_AVGVAL_CY'])\n",
    "plt.xlabel(\"Percentage of Buildings Land Use Area\")\n",
    "plt.ylabel(\"Average Home Value (in USD)\")"
   ]
  },
  {
   "cell_type": "markdown",
   "metadata": {},
   "source": [
    "This graph shows that there is no real relation between Average Home Value and the Percentage of Buildings land area in a neighborhood."
   ]
  },
  {
   "cell_type": "markdown",
   "metadata": {},
   "source": [
    "### 3. Show if there is a relationship between Amount of Total Businesses and Percentage of Sidewalks in a neighborhood"
   ]
  },
  {
   "cell_type": "code",
   "execution_count": 12,
   "metadata": {},
   "outputs": [
    {
     "data": {
      "text/html": [
       "<div class='gpresult'><h2>Messages</h2><div id='messages' data-messages='[\"Start Time: Thursday, March 30, 2023 3:26:23 PM\",\"Succeeded at Thursday, March 30, 2023 3:26:25 PM (Elapsed Time: 1.95 seconds)\"]' data-show='true'><div id = 'default' /></div></div>"
      ],
      "text/plain": [
       "<Result 'C:\\\\Users\\\\drewt\\\\Desktop\\\\Stuff\\\\college\\\\GEOG4324\\\\Kellenberger_Assignment7\\\\Kellenberger_Assignment7.gdb\\\\Neighborhoods_Sidewalks_Enrich'>"
      ]
     },
     "execution_count": 12,
     "metadata": {},
     "output_type": "execute_result"
    }
   ],
   "source": [
    "arcpy.analysis.Enrich(\n",
    "    in_features=\"Neighborhoods_Sidewalks\",\n",
    "    out_feature_class=r\"C:\\Users\\drewt\\Desktop\\Stuff\\college\\GEOG4324\\Kellenberger_Assignment7\\Kellenberger_Assignment7.gdb\\Neighborhoods_Sidewalks_Enrich\",\n",
    "    variables=\"businesses.S01_BUS\",\n",
    "    buffer_type=\"\",\n",
    "    distance=1,\n",
    "    unit=\"\"\n",
    ")"
   ]
  },
  {
   "cell_type": "code",
   "execution_count": 4,
   "metadata": {},
   "outputs": [
    {
     "data": {
      "text/html": [
       "<div>\n",
       "<style scoped>\n",
       "    .dataframe tbody tr th:only-of-type {\n",
       "        vertical-align: middle;\n",
       "    }\n",
       "\n",
       "    .dataframe tbody tr th {\n",
       "        vertical-align: top;\n",
       "    }\n",
       "\n",
       "    .dataframe thead th {\n",
       "        text-align: right;\n",
       "    }\n",
       "</style>\n",
       "<table border=\"1\" class=\"dataframe\">\n",
       "  <thead>\n",
       "    <tr style=\"text-align: right;\">\n",
       "      <th></th>\n",
       "      <th>OBJECTID</th>\n",
       "      <th>Blacksburg</th>\n",
       "      <th>PERIMETER</th>\n",
       "      <th>HOODS_</th>\n",
       "      <th>HOODS_ID</th>\n",
       "      <th>ACAD_TEXT</th>\n",
       "      <th>AreaRatio</th>\n",
       "      <th>Real_ID</th>\n",
       "      <th>area</th>\n",
       "      <th>sum_Area_SQUAREMETERS</th>\n",
       "      <th>Polygon_Count</th>\n",
       "      <th>percentage</th>\n",
       "      <th>aggregationMethod</th>\n",
       "      <th>HasData</th>\n",
       "      <th>ORIGINAL_OID</th>\n",
       "      <th>sourceCountry</th>\n",
       "      <th>apportionmentConfidence</th>\n",
       "      <th>populationToPolygonSizeRating</th>\n",
       "      <th>businesses_S01_BUS</th>\n",
       "      <th>SHAPE</th>\n",
       "    </tr>\n",
       "  </thead>\n",
       "  <tbody>\n",
       "    <tr>\n",
       "      <th>0</th>\n",
       "      <td>1</td>\n",
       "      <td>33919200.0</td>\n",
       "      <td>32857.91</td>\n",
       "      <td>2.0</td>\n",
       "      <td>92.0</td>\n",
       "      <td>Northend</td>\n",
       "      <td>0.000000</td>\n",
       "      <td>1</td>\n",
       "      <td>3151540.0</td>\n",
       "      <td>4282.895731</td>\n",
       "      <td>56</td>\n",
       "      <td>0.135899</td>\n",
       "      <td>BlockApportionment:US.BlockGroups;PointsLayer:...</td>\n",
       "      <td>1</td>\n",
       "      <td>1</td>\n",
       "      <td>US</td>\n",
       "      <td>2.576</td>\n",
       "      <td>2.191</td>\n",
       "      <td>4.0</td>\n",
       "      <td>{\"rings\": [[[10930174.000024095, 3626244.74985...</td>\n",
       "    </tr>\n",
       "    <tr>\n",
       "      <th>1</th>\n",
       "      <td>2</td>\n",
       "      <td>18048600.0</td>\n",
       "      <td>17850.67</td>\n",
       "      <td>4.0</td>\n",
       "      <td>91.0</td>\n",
       "      <td>Northside Park</td>\n",
       "      <td>1.640782</td>\n",
       "      <td>2</td>\n",
       "      <td>1676960.0</td>\n",
       "      <td>13229.394738</td>\n",
       "      <td>329</td>\n",
       "      <td>0.788891</td>\n",
       "      <td>BlockApportionment:US.BlockGroups;PointsLayer:...</td>\n",
       "      <td>1</td>\n",
       "      <td>2</td>\n",
       "      <td>US</td>\n",
       "      <td>2.576</td>\n",
       "      <td>2.191</td>\n",
       "      <td>5.0</td>\n",
       "      <td>{\"rings\": [[[10925379.000099674, 3626181.74998...</td>\n",
       "    </tr>\n",
       "    <tr>\n",
       "      <th>2</th>\n",
       "      <td>3</td>\n",
       "      <td>114996000.0</td>\n",
       "      <td>74639.47</td>\n",
       "      <td>5.0</td>\n",
       "      <td>93.0</td>\n",
       "      <td>Tom's Creek</td>\n",
       "      <td>0.000000</td>\n",
       "      <td>22</td>\n",
       "      <td>10684600.0</td>\n",
       "      <td>33072.153554</td>\n",
       "      <td>539</td>\n",
       "      <td>0.309531</td>\n",
       "      <td>BlockApportionment:US.BlockGroups;PointsLayer:...</td>\n",
       "      <td>1</td>\n",
       "      <td>3</td>\n",
       "      <td>US</td>\n",
       "      <td>2.576</td>\n",
       "      <td>2.191</td>\n",
       "      <td>13.0</td>\n",
       "      <td>{\"rings\": [[[10919218.99995251, 3624748.249899...</td>\n",
       "    </tr>\n",
       "    <tr>\n",
       "      <th>3</th>\n",
       "      <td>4</td>\n",
       "      <td>10531100.0</td>\n",
       "      <td>19088.92</td>\n",
       "      <td>6.0</td>\n",
       "      <td>89.0</td>\n",
       "      <td>Main/Patrick Henry</td>\n",
       "      <td>0.000000</td>\n",
       "      <td>4</td>\n",
       "      <td>978482.0</td>\n",
       "      <td>25852.170288</td>\n",
       "      <td>293</td>\n",
       "      <td>2.642069</td>\n",
       "      <td>BlockApportionment:US.BlockGroups;PointsLayer:...</td>\n",
       "      <td>1</td>\n",
       "      <td>4</td>\n",
       "      <td>US</td>\n",
       "      <td>2.576</td>\n",
       "      <td>2.191</td>\n",
       "      <td>44.0</td>\n",
       "      <td>{\"rings\": [[[10926938.999932423, 3622980.25015...</td>\n",
       "    </tr>\n",
       "    <tr>\n",
       "      <th>4</th>\n",
       "      <td>5</td>\n",
       "      <td>7748780.0</td>\n",
       "      <td>11958.65</td>\n",
       "      <td>7.0</td>\n",
       "      <td>87.0</td>\n",
       "      <td>Murphy</td>\n",
       "      <td>0.704435</td>\n",
       "      <td>5</td>\n",
       "      <td>719964.0</td>\n",
       "      <td>2735.988089</td>\n",
       "      <td>92</td>\n",
       "      <td>0.380017</td>\n",
       "      <td>BlockApportionment:US.BlockGroups;PointsLayer:...</td>\n",
       "      <td>1</td>\n",
       "      <td>5</td>\n",
       "      <td>US</td>\n",
       "      <td>2.576</td>\n",
       "      <td>2.191</td>\n",
       "      <td>3.0</td>\n",
       "      <td>{\"rings\": [[[10926391.000044167, 3618395.50013...</td>\n",
       "    </tr>\n",
       "  </tbody>\n",
       "</table>\n",
       "</div>"
      ],
      "text/plain": [
       "   OBJECTID   Blacksburg  PERIMETER  HOODS_  HOODS_ID           ACAD_TEXT  \\\n",
       "0         1   33919200.0   32857.91     2.0      92.0            Northend   \n",
       "1         2   18048600.0   17850.67     4.0      91.0      Northside Park   \n",
       "2         3  114996000.0   74639.47     5.0      93.0         Tom's Creek   \n",
       "3         4   10531100.0   19088.92     6.0      89.0  Main/Patrick Henry   \n",
       "4         5    7748780.0   11958.65     7.0      87.0              Murphy   \n",
       "\n",
       "   AreaRatio  Real_ID        area  sum_Area_SQUAREMETERS  Polygon_Count  \\\n",
       "0   0.000000        1   3151540.0            4282.895731             56   \n",
       "1   1.640782        2   1676960.0           13229.394738            329   \n",
       "2   0.000000       22  10684600.0           33072.153554            539   \n",
       "3   0.000000        4    978482.0           25852.170288            293   \n",
       "4   0.704435        5    719964.0            2735.988089             92   \n",
       "\n",
       "   percentage                                  aggregationMethod  HasData  \\\n",
       "0    0.135899  BlockApportionment:US.BlockGroups;PointsLayer:...        1   \n",
       "1    0.788891  BlockApportionment:US.BlockGroups;PointsLayer:...        1   \n",
       "2    0.309531  BlockApportionment:US.BlockGroups;PointsLayer:...        1   \n",
       "3    2.642069  BlockApportionment:US.BlockGroups;PointsLayer:...        1   \n",
       "4    0.380017  BlockApportionment:US.BlockGroups;PointsLayer:...        1   \n",
       "\n",
       "   ORIGINAL_OID sourceCountry  apportionmentConfidence  \\\n",
       "0             1            US                    2.576   \n",
       "1             2            US                    2.576   \n",
       "2             3            US                    2.576   \n",
       "3             4            US                    2.576   \n",
       "4             5            US                    2.576   \n",
       "\n",
       "   populationToPolygonSizeRating  businesses_S01_BUS  \\\n",
       "0                          2.191                 4.0   \n",
       "1                          2.191                 5.0   \n",
       "2                          2.191                13.0   \n",
       "3                          2.191                44.0   \n",
       "4                          2.191                 3.0   \n",
       "\n",
       "                                               SHAPE  \n",
       "0  {\"rings\": [[[10930174.000024095, 3626244.74985...  \n",
       "1  {\"rings\": [[[10925379.000099674, 3626181.74998...  \n",
       "2  {\"rings\": [[[10919218.99995251, 3624748.249899...  \n",
       "3  {\"rings\": [[[10926938.999932423, 3622980.25015...  \n",
       "4  {\"rings\": [[[10926391.000044167, 3618395.50013...  "
      ]
     },
     "execution_count": 4,
     "metadata": {},
     "output_type": "execute_result"
    }
   ],
   "source": [
    "sidewalks_df = pd.DataFrame.spatial.from_featureclass(r\"C:\\Users\\drewt\\Desktop\\Stuff\\college\\GEOG4324\\Kellenberger_Assignment7\\Kellenberger_Assignment7.gdb\\Neighborhoods_Sidewalks_Enrich\")\n",
    "sidewalks_df.head()"
   ]
  },
  {
   "cell_type": "code",
   "execution_count": 5,
   "metadata": {},
   "outputs": [
    {
     "data": {
      "text/plain": [
       "Text(0, 0.5, 'Total Amount of Businesses')"
      ]
     },
     "execution_count": 5,
     "metadata": {},
     "output_type": "execute_result"
    },
    {
     "data": {
      "image/png": "[encoded data removed]",
      "text/plain": [
       "<Figure size 640x480 with 1 Axes>"
      ]
     },
     "metadata": {},
     "output_type": "display_data"
    }
   ],
   "source": [
    "plt.scatter(sidewalks_df['percentage'], sidewalks_df['businesses_S01_BUS'])\n",
    "plt.xlabel(\"Percentage of Sidewalks Land Use Area\")\n",
    "plt.ylabel(\"Total Amount of Businesses\")"
   ]
  },
  {
   "cell_type": "markdown",
   "metadata": {},
   "source": [
    "This graph shows that there is a slight positive relationship between the amount of businesses in a neighborhood and the amount of sidewalks land area in a neighborhood. As the amount of businesses increase, there is usually a slight increase in the amount of sidewalks in that neighborhood./"
   ]
  },
  {
   "cell_type": "code",
   "execution_count": null,
   "metadata": {},
   "outputs": [],
   "source": []
  }
 ],
 "metadata": {
  "kernelspec": {
   "display_name": "Python 3 (ipykernel)",
   "language": "python",
   "name": "python3"
  },
  "language_info": {
   "codemirror_mode": {
    "name": "ipython",
    "version": 3
   },
   "file_extension": ".py",
   "mimetype": "text/x-python",
   "name": "python",
   "nbconvert_exporter": "python",
   "pygments_lexer": "ipython3",
   "version": "3.9.16"
  }
 },
 "nbformat": 4,
 "nbformat_minor": 2
}
