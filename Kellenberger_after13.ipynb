{
 "cells": [
  {
   "cell_type": "code",
   "execution_count": 1,
   "id": "6ce8eef1",
   "metadata": {},
   "outputs": [],
   "source": [
    "import numpy as np\n",
    "import matplotlib.pyplot as plt\n",
    "import os\n",
    "import glob\n",
    "import imageio\n",
    "import pandas as pd"
   ]
  },
  {
   "cell_type": "markdown",
   "id": "569947a1",
   "metadata": {},
   "source": [
    "# after13 - Image Processing"
   ]
  },
  {
   "cell_type": "code",
   "execution_count": 2,
   "id": "80b557f8",
   "metadata": {},
   "outputs": [
    {
     "data": {
      "text/plain": [
       "['data\\\\n0q_202304010000.png',\n",
       " 'data\\\\n0q_202304020000.png',\n",
       " 'data\\\\n0q_202304030000.png',\n",
       " 'data\\\\n0q_202304040000.png',\n",
       " 'data\\\\n0q_202304050000.png',\n",
       " 'data\\\\n0q_202304060000.png',\n",
       " 'data\\\\n0q_202304070000.png',\n",
       " 'data\\\\n0q_202304080000.png',\n",
       " 'data\\\\n0q_202304090000.png',\n",
       " 'data\\\\n0q_202304100000.png']"
      ]
     },
     "execution_count": 2,
     "metadata": {},
     "output_type": "execute_result"
    }
   ],
   "source": [
    "fns = glob.glob(r'data/*.png')\n",
    "fns"
   ]
  },
  {
   "cell_type": "code",
   "execution_count": 3,
   "id": "3494cc3d",
   "metadata": {},
   "outputs": [],
   "source": [
    "filename = []\n",
    "min = []\n",
    "median = []\n",
    "max = []"
   ]
  },
  {
   "cell_type": "code",
   "execution_count": 4,
   "id": "8c66779f",
   "metadata": {},
   "outputs": [],
   "source": [
    "for fn in fns:\n",
    "    I = imageio.v3.imread(fn)\n",
    "    \n",
    "    dbz = (0.5 * I.astype(float) - 32)\n",
    "    dbz[dbz < -32] = np.nan\n",
    "\n",
    "    filename.append(fn[6:])\n",
    "    min.append(np.nanmin(dbz))\n",
    "    median.append(np.nanmedian(dbz))\n",
    "    max.append(np.nanmax(dbz))"
   ]
  },
  {
   "cell_type": "code",
   "execution_count": 5,
   "id": "fec5511a",
   "metadata": {},
   "outputs": [
    {
     "data": {
      "text/html": [
       "<div>\n",
       "<style scoped>\n",
       "    .dataframe tbody tr th:only-of-type {\n",
       "        vertical-align: middle;\n",
       "    }\n",
       "\n",
       "    .dataframe tbody tr th {\n",
       "        vertical-align: top;\n",
       "    }\n",
       "\n",
       "    .dataframe thead th {\n",
       "        text-align: right;\n",
       "    }\n",
       "</style>\n",
       "<table border=\"1\" class=\"dataframe\">\n",
       "  <thead>\n",
       "    <tr style=\"text-align: right;\">\n",
       "      <th></th>\n",
       "      <th>filename</th>\n",
       "      <th>min</th>\n",
       "      <th>median</th>\n",
       "      <th>max</th>\n",
       "    </tr>\n",
       "  </thead>\n",
       "  <tbody>\n",
       "    <tr>\n",
       "      <th>0</th>\n",
       "      <td>0q_202304010000.png</td>\n",
       "      <td>-32.0</td>\n",
       "      <td>-32.0</td>\n",
       "      <td>74.0</td>\n",
       "    </tr>\n",
       "    <tr>\n",
       "      <th>1</th>\n",
       "      <td>0q_202304020000.png</td>\n",
       "      <td>-32.0</td>\n",
       "      <td>-32.0</td>\n",
       "      <td>70.0</td>\n",
       "    </tr>\n",
       "    <tr>\n",
       "      <th>2</th>\n",
       "      <td>0q_202304030000.png</td>\n",
       "      <td>-32.0</td>\n",
       "      <td>-32.0</td>\n",
       "      <td>77.0</td>\n",
       "    </tr>\n",
       "    <tr>\n",
       "      <th>3</th>\n",
       "      <td>0q_202304040000.png</td>\n",
       "      <td>-32.0</td>\n",
       "      <td>-32.0</td>\n",
       "      <td>75.5</td>\n",
       "    </tr>\n",
       "    <tr>\n",
       "      <th>4</th>\n",
       "      <td>0q_202304050000.png</td>\n",
       "      <td>-32.0</td>\n",
       "      <td>-32.0</td>\n",
       "      <td>75.5</td>\n",
       "    </tr>\n",
       "    <tr>\n",
       "      <th>5</th>\n",
       "      <td>0q_202304060000.png</td>\n",
       "      <td>-32.0</td>\n",
       "      <td>-32.0</td>\n",
       "      <td>71.5</td>\n",
       "    </tr>\n",
       "    <tr>\n",
       "      <th>6</th>\n",
       "      <td>0q_202304070000.png</td>\n",
       "      <td>-32.0</td>\n",
       "      <td>-32.0</td>\n",
       "      <td>70.0</td>\n",
       "    </tr>\n",
       "    <tr>\n",
       "      <th>7</th>\n",
       "      <td>0q_202304080000.png</td>\n",
       "      <td>-32.0</td>\n",
       "      <td>-32.0</td>\n",
       "      <td>68.5</td>\n",
       "    </tr>\n",
       "    <tr>\n",
       "      <th>8</th>\n",
       "      <td>0q_202304090000.png</td>\n",
       "      <td>-32.0</td>\n",
       "      <td>-32.0</td>\n",
       "      <td>68.0</td>\n",
       "    </tr>\n",
       "    <tr>\n",
       "      <th>9</th>\n",
       "      <td>0q_202304100000.png</td>\n",
       "      <td>-32.0</td>\n",
       "      <td>-32.0</td>\n",
       "      <td>74.0</td>\n",
       "    </tr>\n",
       "  </tbody>\n",
       "</table>\n",
       "</div>"
      ],
      "text/plain": [
       "              filename   min  median   max\n",
       "0  0q_202304010000.png -32.0   -32.0  74.0\n",
       "1  0q_202304020000.png -32.0   -32.0  70.0\n",
       "2  0q_202304030000.png -32.0   -32.0  77.0\n",
       "3  0q_202304040000.png -32.0   -32.0  75.5\n",
       "4  0q_202304050000.png -32.0   -32.0  75.5\n",
       "5  0q_202304060000.png -32.0   -32.0  71.5\n",
       "6  0q_202304070000.png -32.0   -32.0  70.0\n",
       "7  0q_202304080000.png -32.0   -32.0  68.5\n",
       "8  0q_202304090000.png -32.0   -32.0  68.0\n",
       "9  0q_202304100000.png -32.0   -32.0  74.0"
      ]
     },
     "execution_count": 5,
     "metadata": {},
     "output_type": "execute_result"
    }
   ],
   "source": [
    "data = {'filename': filename,\n",
    "       'min': min,\n",
    "       'median': median,\n",
    "       'max': max}\n",
    "\n",
    "df = pd.DataFrame(data)\n",
    "df"
   ]
  },
  {
   "cell_type": "code",
   "execution_count": 6,
   "id": "717f7419",
   "metadata": {},
   "outputs": [],
   "source": [
    "df.to_csv('image_dbz.csv')"
   ]
  }
 ],
 "metadata": {
  "kernelspec": {
   "display_name": "Python 3 (ipykernel)",
   "language": "python",
   "name": "python3"
  },
  "language_info": {
   "codemirror_mode": {
    "name": "ipython",
    "version": 3
   },
   "file_extension": ".py",
   "mimetype": "text/x-python",
   "name": "python",
   "nbconvert_exporter": "python",
   "pygments_lexer": "ipython3",
   "version": "3.9.0"
  }
 },
 "nbformat": 4,
 "nbformat_minor": 5
}
