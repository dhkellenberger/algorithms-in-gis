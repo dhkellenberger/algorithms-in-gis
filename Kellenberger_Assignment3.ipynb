{
 "cells": [
  {
   "cell_type": "markdown",
   "id": "f2c99aba",
   "metadata": {},
   "source": [
    "# Assignment 3: Refactoring and Profiling"
   ]
  },
  {
   "cell_type": "code",
   "execution_count": 1,
   "id": "699521c1",
   "metadata": {},
   "outputs": [],
   "source": [
    "import numpy as np\n",
    "import random\n",
    "import string"
   ]
  },
  {
   "cell_type": "markdown",
   "id": "e760f3cf",
   "metadata": {},
   "source": [
    "## factodd\n",
    "\n",
    "* Compute the factorial of only odd numbers <= (n), if start value is even, start at n-1.\n",
    "* Return the factorial value\n",
    "* Example: factodd(7) returns 105 (that is 7x5x3) \n",
    "* Example: factodd(6) returns 15 (that is 5x3)\n",
    "\n"
   ]
  },
  {
   "cell_type": "code",
   "execution_count": 2,
   "id": "4bbc1370",
   "metadata": {},
   "outputs": [],
   "source": [
    "def factodd(n):\n",
    "    if n % 2 != 0:\n",
    "        nextnum = n-2\n",
    "        result = n\n",
    "        while nextnum > 1 and n > 1:\n",
    "            result *= nextnum\n",
    "            n = n-2\n",
    "            nextnum = n-2\n",
    "    else:\n",
    "        n = n-1\n",
    "        nextnum = n-2\n",
    "        result = n\n",
    "        while nextnum > 1 and n > 1:\n",
    "            result *= nextnum\n",
    "            n = n-2\n",
    "            nextnum = n-2\n",
    "            \n",
    "    return result"
   ]
  },
  {
   "cell_type": "code",
   "execution_count": 3,
   "id": "e1fda207",
   "metadata": {},
   "outputs": [],
   "source": [
    "def factodd2(n):\n",
    "    total = 1\n",
    "    \n",
    "    if n % 2 != 0:\n",
    "        for i in range(1, n+1, 2):\n",
    "            total *= i\n",
    "    else:\n",
    "        n = n-1\n",
    "        for i in range(1, n+1, 2):\n",
    "            total *= i\n",
    "    return total"
   ]
  },
  {
   "cell_type": "code",
   "execution_count": 4,
   "id": "c062f653",
   "metadata": {},
   "outputs": [
    {
     "name": "stdout",
     "output_type": "stream",
     "text": [
      "105\n",
      "105\n"
     ]
    }
   ],
   "source": [
    "print(factodd(7))\n",
    "print(factodd2(7))"
   ]
  },
  {
   "cell_type": "code",
   "execution_count": 5,
   "id": "267d9736",
   "metadata": {},
   "outputs": [
    {
     "name": "stdout",
     "output_type": "stream",
     "text": [
      "15\n",
      "15\n"
     ]
    }
   ],
   "source": [
    "print(factodd(6))\n",
    "print(factodd2(6))"
   ]
  },
  {
   "cell_type": "code",
   "execution_count": 6,
   "id": "4814f4ab",
   "metadata": {},
   "outputs": [],
   "source": [
    "tests = [random.randint(1,100) for i in range(10)]"
   ]
  },
  {
   "cell_type": "code",
   "execution_count": 7,
   "id": "0d14ba79",
   "metadata": {
    "scrolled": false
   },
   "outputs": [
    {
     "name": "stdout",
     "output_type": "stream",
     "text": [
      "32 µs ± 819 ns per loop (mean ± std. dev. of 7 runs, 10000 loops each)\n"
     ]
    }
   ],
   "source": [
    "%%timeit\n",
    "results = [factodd(item) for item in tests]"
   ]
  },
  {
   "cell_type": "code",
   "execution_count": 8,
   "id": "a8c28a68",
   "metadata": {},
   "outputs": [
    {
     "name": "stdout",
     "output_type": "stream",
     "text": [
      "16.4 µs ± 177 ns per loop (mean ± std. dev. of 7 runs, 100000 loops each)\n"
     ]
    }
   ],
   "source": [
    "%%timeit\n",
    "results = [factodd2(item) for item in tests]"
   ]
  },
  {
   "cell_type": "markdown",
   "id": "fc67ea26",
   "metadata": {},
   "source": [
    "The new refactored code uses a for loop over a range of numbers to calculate the factorial instead of a while loop. This profiling shows that this refactored code is about 2 times as fast as the original code."
   ]
  },
  {
   "cell_type": "markdown",
   "id": "086929ab",
   "metadata": {},
   "source": [
    "## nest\n",
    "\n",
    "* Given 4 integers, return the sum of all pairs of those integers in an inclusive nested loop set\n",
    "* Example: nest(1,2,5,6) returns 28 (1+5 + 1+6 + 2+5 + 2+6)\n",
    "* Example: nest(11,12,3,4) returns 60 (11+3 + 11+4 + 12+3 + 12+4)\n",
    "* Example: nest(1,12,6,17) returns 2592"
   ]
  },
  {
   "cell_type": "code",
   "execution_count": 9,
   "id": "97faef24",
   "metadata": {},
   "outputs": [],
   "source": [
    "def nest(xmin, xmax, ymin, ymax):\n",
    "    total = 0\n",
    "    i = xmin\n",
    "    j = ymin\n",
    "    \n",
    "    while i <= xmax:\n",
    "        total += i+j\n",
    "        j += 1\n",
    "        if j > ymax:\n",
    "            j = ymin\n",
    "            i += 1\n",
    "    \n",
    "    return total"
   ]
  },
  {
   "cell_type": "code",
   "execution_count": 10,
   "id": "d38e7d61",
   "metadata": {},
   "outputs": [],
   "source": [
    "def nest2(xmin, xmax, ymin, ymax):\n",
    "    total = 0\n",
    "    \n",
    "    for i in range(xmin, xmax+1):\n",
    "        for j in range(ymin, ymax+1):\n",
    "            total += i+j\n",
    "    \n",
    "    return total"
   ]
  },
  {
   "cell_type": "code",
   "execution_count": 11,
   "id": "e26f9e81",
   "metadata": {},
   "outputs": [
    {
     "name": "stdout",
     "output_type": "stream",
     "text": [
      "28\n",
      "28\n"
     ]
    }
   ],
   "source": [
    "print(nest(1,2,5,6))\n",
    "print(nest2(1,2,5,6))"
   ]
  },
  {
   "cell_type": "code",
   "execution_count": 12,
   "id": "2c07a308",
   "metadata": {},
   "outputs": [
    {
     "name": "stdout",
     "output_type": "stream",
     "text": [
      "60\n",
      "60\n"
     ]
    }
   ],
   "source": [
    "print(nest(11,12,3,4))\n",
    "print(nest2(11,12,3,4))"
   ]
  },
  {
   "cell_type": "code",
   "execution_count": 13,
   "id": "f3d39128",
   "metadata": {},
   "outputs": [
    {
     "name": "stdout",
     "output_type": "stream",
     "text": [
      "2592\n",
      "2592\n"
     ]
    }
   ],
   "source": [
    "print(nest(1,12,6,17))\n",
    "print(nest2(1,12,6,17))"
   ]
  },
  {
   "cell_type": "code",
   "execution_count": 14,
   "id": "54196fe5",
   "metadata": {},
   "outputs": [],
   "source": [
    "a = [random.randint(1,50) for i in range(10)]\n",
    "b = [random.randint(51,100) for i in range(10)]\n",
    "c = [random.randint(1,50) for i in range(10)]\n",
    "d = [random.randint(51,100) for i in range(10)]"
   ]
  },
  {
   "cell_type": "code",
   "execution_count": 15,
   "id": "52024697",
   "metadata": {},
   "outputs": [
    {
     "name": "stdout",
     "output_type": "stream",
     "text": [
      "2.95 ms ± 38.8 µs per loop (mean ± std. dev. of 7 runs, 100 loops each)\n"
     ]
    }
   ],
   "source": [
    "%%timeit\n",
    "results = [nest(a[i], b[i], c[i], d[i]) for i in range(10)]"
   ]
  },
  {
   "cell_type": "code",
   "execution_count": 16,
   "id": "adf725a7",
   "metadata": {},
   "outputs": [
    {
     "name": "stdout",
     "output_type": "stream",
     "text": [
      "1.7 ms ± 10.5 µs per loop (mean ± std. dev. of 7 runs, 1000 loops each)\n"
     ]
    }
   ],
   "source": [
    "%%timeit\n",
    "results = [nest2(a[i], b[i], c[i], d[i]) for i in range(10)]"
   ]
  },
  {
   "cell_type": "markdown",
   "id": "ca376d8e",
   "metadata": {},
   "source": [
    "The new refactored code uses a for loop over 2 ranges of numbers to do the nesting calculation instead of a while loop. This profiling shows that this refactored code is about 2 times as fast as the original code."
   ]
  },
  {
   "cell_type": "markdown",
   "id": "ab4a9004",
   "metadata": {},
   "source": [
    "## ends\n",
    "\n",
    "* Function that selects first 3 and last 3 letters in a string (s)\n",
    "* Return the 6 letters in the original order in a single string\n",
    "* Example: ends('Geography\") returns 'Geophy'"
   ]
  },
  {
   "cell_type": "code",
   "execution_count": 17,
   "id": "5b2fd565",
   "metadata": {},
   "outputs": [],
   "source": [
    "def ends(s):\n",
    "    result = \"\"\n",
    "    first = s[0:3]\n",
    "    last = s[-3:]\n",
    "    result = first + last\n",
    "    return result"
   ]
  },
  {
   "cell_type": "code",
   "execution_count": 18,
   "id": "413864ea",
   "metadata": {},
   "outputs": [],
   "source": [
    "def ends2(s):\n",
    "    return s[0:3]+s[-3:]"
   ]
  },
  {
   "cell_type": "code",
   "execution_count": 19,
   "id": "25c8c4b5",
   "metadata": {},
   "outputs": [
    {
     "name": "stdout",
     "output_type": "stream",
     "text": [
      "Geophy\n",
      "Geophy\n"
     ]
    }
   ],
   "source": [
    "print(ends(\"Geography\"))\n",
    "print(ends2(\"Geography\"))"
   ]
  },
  {
   "cell_type": "code",
   "execution_count": 20,
   "id": "9f201524",
   "metadata": {},
   "outputs": [],
   "source": [
    "tests = [(''.join(random.choices(string.ascii_letters, k=50))) for i in range(10)]"
   ]
  },
  {
   "cell_type": "code",
   "execution_count": 21,
   "id": "acf3502e",
   "metadata": {},
   "outputs": [
    {
     "name": "stdout",
     "output_type": "stream",
     "text": [
      "3.72 µs ± 158 ns per loop (mean ± std. dev. of 7 runs, 100000 loops each)\n"
     ]
    }
   ],
   "source": [
    "%%timeit\n",
    "results = [ends(string) for string in tests]"
   ]
  },
  {
   "cell_type": "code",
   "execution_count": 22,
   "id": "6a5f33f4",
   "metadata": {},
   "outputs": [
    {
     "name": "stdout",
     "output_type": "stream",
     "text": [
      "3.09 µs ± 38.2 ns per loop (mean ± std. dev. of 7 runs, 100000 loops each)\n"
     ]
    }
   ],
   "source": [
    "%%timeit\n",
    "results = [ends2(string) for string in tests]"
   ]
  },
  {
   "cell_type": "markdown",
   "id": "71cdedd0",
   "metadata": {},
   "source": [
    "The new refactored code just returns the two segments of the string concatenated together instead of putting each segment of the string into separate variables and then concatenating them together. This profiling shows that this refactored code is about 15% faster than the original code."
   ]
  },
  {
   "cell_type": "markdown",
   "id": "31e2bc29",
   "metadata": {},
   "source": [
    "## addevens\n",
    "\n",
    "* Add all even integers less than or equal to a passed value (s)\n",
    "* Return the sum\n",
    "* Example: addevens(5) returns 6 (2 + 4)\n",
    "* Example: addevens(24) returns 156"
   ]
  },
  {
   "cell_type": "code",
   "execution_count": 23,
   "id": "61a496ec",
   "metadata": {},
   "outputs": [],
   "source": [
    "def addevens(s):\n",
    "    total = 0\n",
    "    i = 2\n",
    "\n",
    "    while i <= s:\n",
    "        total += i\n",
    "        i += 2\n",
    "    \n",
    "    return total"
   ]
  },
  {
   "cell_type": "code",
   "execution_count": 24,
   "id": "8810deb2",
   "metadata": {},
   "outputs": [],
   "source": [
    "def addevens2(s):\n",
    "    total = 0\n",
    "    \n",
    "    for i in range(2, s+1, 2):\n",
    "        total += i\n",
    "    \n",
    "    return total"
   ]
  },
  {
   "cell_type": "code",
   "execution_count": 25,
   "id": "59e7fa2c",
   "metadata": {},
   "outputs": [
    {
     "name": "stdout",
     "output_type": "stream",
     "text": [
      "6\n",
      "6\n"
     ]
    }
   ],
   "source": [
    "print(addevens(5))\n",
    "print(addevens2(5))"
   ]
  },
  {
   "cell_type": "code",
   "execution_count": 26,
   "id": "26febd27",
   "metadata": {},
   "outputs": [
    {
     "name": "stdout",
     "output_type": "stream",
     "text": [
      "156\n",
      "156\n"
     ]
    }
   ],
   "source": [
    "print(addevens(24))\n",
    "print(addevens2(24))"
   ]
  },
  {
   "cell_type": "code",
   "execution_count": 27,
   "id": "622a09f9",
   "metadata": {},
   "outputs": [],
   "source": [
    "tests = [random.randint(1,100) for i in range(10)]"
   ]
  },
  {
   "cell_type": "code",
   "execution_count": 28,
   "id": "acc9933f",
   "metadata": {},
   "outputs": [
    {
     "name": "stdout",
     "output_type": "stream",
     "text": [
      "20.2 µs ± 328 ns per loop (mean ± std. dev. of 7 runs, 10000 loops each)\n"
     ]
    }
   ],
   "source": [
    "%%timeit\n",
    "results = [addevens(num) for num in tests]"
   ]
  },
  {
   "cell_type": "code",
   "execution_count": 29,
   "id": "9413138f",
   "metadata": {},
   "outputs": [
    {
     "name": "stdout",
     "output_type": "stream",
     "text": [
      "13.1 µs ± 111 ns per loop (mean ± std. dev. of 7 runs, 100000 loops each)\n"
     ]
    }
   ],
   "source": [
    "%%timeit\n",
    "results = [addevens2(num) for num in tests]"
   ]
  },
  {
   "cell_type": "markdown",
   "id": "18f9e7bf",
   "metadata": {},
   "source": [
    "The new refactored code uses a for loop over a range of numbers instead of a while loop and a counter. The profiling shows that the new code is just under 2 times faster."
   ]
  },
  {
   "cell_type": "markdown",
   "id": "c62ec9a7",
   "metadata": {},
   "source": [
    "## addodds\n",
    "\n",
    "* Add all odd integers less than a passed value (s)\n",
    "* Return the sum\n",
    "* Examples: addodds(5) returns 4 (1 + 3), addodds(4) returns 4 (1 + 3)"
   ]
  },
  {
   "cell_type": "code",
   "execution_count": 30,
   "id": "92ea7ce6",
   "metadata": {},
   "outputs": [],
   "source": [
    "def addodds(s):\n",
    "    total = 0\n",
    "    i = 1\n",
    "    \n",
    "    while i < s:\n",
    "        total += i\n",
    "        i += 2\n",
    "        \n",
    "    return total"
   ]
  },
  {
   "cell_type": "code",
   "execution_count": 31,
   "id": "4337a616",
   "metadata": {},
   "outputs": [],
   "source": [
    "def addodds2(s):\n",
    "    total = 0\n",
    "    \n",
    "    for i in range(1, s, 2):\n",
    "        total += i\n",
    "    \n",
    "    return total"
   ]
  },
  {
   "cell_type": "code",
   "execution_count": 32,
   "id": "d9b5effa",
   "metadata": {},
   "outputs": [
    {
     "name": "stdout",
     "output_type": "stream",
     "text": [
      "4\n",
      "4\n"
     ]
    }
   ],
   "source": [
    "print(addodds(5))\n",
    "print(addodds2(5))"
   ]
  },
  {
   "cell_type": "code",
   "execution_count": 33,
   "id": "99cbc903",
   "metadata": {},
   "outputs": [
    {
     "name": "stdout",
     "output_type": "stream",
     "text": [
      "4\n",
      "4\n"
     ]
    }
   ],
   "source": [
    "print(addodds(4))\n",
    "print(addodds2(4))"
   ]
  },
  {
   "cell_type": "code",
   "execution_count": 34,
   "id": "bbfb5e37",
   "metadata": {
    "scrolled": true
   },
   "outputs": [],
   "source": [
    "tests = [random.randint(1,100) for i in range(10)]"
   ]
  },
  {
   "cell_type": "code",
   "execution_count": 35,
   "id": "37f7f267",
   "metadata": {},
   "outputs": [
    {
     "name": "stdout",
     "output_type": "stream",
     "text": [
      "17 µs ± 74.2 ns per loop (mean ± std. dev. of 7 runs, 100000 loops each)\n"
     ]
    }
   ],
   "source": [
    "%%timeit\n",
    "results = [addodds(num) for num in tests]"
   ]
  },
  {
   "cell_type": "code",
   "execution_count": 36,
   "id": "94ee4025",
   "metadata": {},
   "outputs": [
    {
     "name": "stdout",
     "output_type": "stream",
     "text": [
      "11.1 µs ± 69.2 ns per loop (mean ± std. dev. of 7 runs, 100000 loops each)\n"
     ]
    }
   ],
   "source": [
    "%%timeit\n",
    "results = [addodds2(num) for num in tests]"
   ]
  },
  {
   "cell_type": "markdown",
   "id": "eafde52c",
   "metadata": {},
   "source": [
    "The new refactored code uses a for loop over a range of numbers instead of a while loop and a counter. The profiling shows that the new code is about 33% faster."
   ]
  },
  {
   "cell_type": "markdown",
   "id": "6dff9174",
   "metadata": {},
   "source": [
    "## multints\n",
    "* Given two integers, return the result of multiplying all intermediate integers including the lowest and not including the highest.\n",
    "* Example: multints(2,6) returns 120.0 (2x3x4x5)"
   ]
  },
  {
   "cell_type": "code",
   "execution_count": 37,
   "id": "965ff387",
   "metadata": {},
   "outputs": [],
   "source": [
    "def multints(a, b):\n",
    "    total = 1.0\n",
    "    i = a\n",
    "    \n",
    "    while i < b:\n",
    "        total *= i\n",
    "        i += 1\n",
    "        \n",
    "    return total"
   ]
  },
  {
   "cell_type": "code",
   "execution_count": 38,
   "id": "7a875657",
   "metadata": {},
   "outputs": [],
   "source": [
    "def multints2(a, b):\n",
    "    total = 1.0\n",
    "    \n",
    "    for i in range(a, b):\n",
    "        total *= i\n",
    "        \n",
    "    return total"
   ]
  },
  {
   "cell_type": "code",
   "execution_count": 39,
   "id": "d16b5ac3",
   "metadata": {},
   "outputs": [
    {
     "name": "stdout",
     "output_type": "stream",
     "text": [
      "120.0\n",
      "120.0\n"
     ]
    }
   ],
   "source": [
    "print(multints(2,6))\n",
    "print(multints2(2,6))"
   ]
  },
  {
   "cell_type": "code",
   "execution_count": 40,
   "id": "29ac3a1f",
   "metadata": {},
   "outputs": [],
   "source": [
    "a = [random.randint(1,50) for i in range(10)]\n",
    "b = [random.randint(51,100) for i in range(10)]"
   ]
  },
  {
   "cell_type": "code",
   "execution_count": 41,
   "id": "b5327a30",
   "metadata": {},
   "outputs": [
    {
     "name": "stdout",
     "output_type": "stream",
     "text": [
      "45.9 µs ± 1.24 µs per loop (mean ± std. dev. of 7 runs, 10000 loops each)\n"
     ]
    }
   ],
   "source": [
    "%%timeit\n",
    "results = [multints(a[i], b[i]) for i in range(10)]"
   ]
  },
  {
   "cell_type": "code",
   "execution_count": 42,
   "id": "17e97584",
   "metadata": {},
   "outputs": [
    {
     "name": "stdout",
     "output_type": "stream",
     "text": [
      "28.1 µs ± 981 ns per loop (mean ± std. dev. of 7 runs, 10000 loops each)\n"
     ]
    }
   ],
   "source": [
    "%%timeit\n",
    "results = [multints2(a[i], b[i]) for i in range(10)]"
   ]
  },
  {
   "cell_type": "markdown",
   "id": "06324f8a",
   "metadata": {},
   "source": [
    "The new refactored code uses a for loop over a range of numbers instead of a while loop and an \"i\" variable used to keep track of what number the loop is on. The profiling shows that the new code is about 2 times faster."
   ]
  }
 ],
 "metadata": {
  "kernelspec": {
   "display_name": "Python 3 (ipykernel)",
   "language": "python",
   "name": "python3"
  },
  "language_info": {
   "codemirror_mode": {
    "name": "ipython",
    "version": 3
   },
   "file_extension": ".py",
   "mimetype": "text/x-python",
   "name": "python",
   "nbconvert_exporter": "python",
   "pygments_lexer": "ipython3",
   "version": "3.9.13"
  }
 },
 "nbformat": 4,
 "nbformat_minor": 5
}
