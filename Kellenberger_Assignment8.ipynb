{
 "cells": [
  {
   "cell_type": "code",
   "execution_count": 2,
   "metadata": {},
   "outputs": [],
   "source": [
    "import arcpy\n",
    "from arcgis.gis import GIS\n",
    "\n",
    "import numpy as np\n",
    "import matplotlib.pyplot as plt\n",
    "import seaborn\n",
    "\n",
    "import pandas as pd\n",
    "from arcgis.features import GeoAccessor, GeoSeriesAccessor\n",
    "\n",
    "gis = GIS()\n",
    "arcpy.env.overwriteOutput = True"
   ]
  },
  {
   "cell_type": "code",
   "execution_count": 3,
   "metadata": {},
   "outputs": [],
   "source": [
    "arcpy.env.workspace = r\"C:\\Users\\drewt\\Desktop\\Stuff\\college\\GEOG4324\\Palm_Tree_Detection\\Kolovai\""
   ]
  },
  {
   "cell_type": "code",
   "execution_count": 3,
   "metadata": {},
   "outputs": [],
   "source": [
    "with arcpy.EnvManager(cellSize=\"Imagery\"):\n",
    "    arcpy.ia.ExportTrainingDataForDeepLearning(\n",
    "        in_raster=\"Imagery\",\n",
    "        out_folder=r\"C:\\Users\\drewt\\Desktop\\Stuff\\college\\GEOG4324\\Palm_Tree_Detection\\Kolovai\\imagechips\",\n",
    "        in_class_data=r\"C:\\Users\\drewt\\Desktop\\Stuff\\college\\GEOG4324\\Palm_Tree_Detection\\Kolovai\\Kolovai.gdb\\PalmTraining\",\n",
    "        image_chip_format=\"JPEG\",\n",
    "        tile_size_x=448,\n",
    "        tile_size_y=448,\n",
    "        stride_x=128,\n",
    "        stride_y=128,\n",
    "        output_nofeature_tiles=\"ONLY_TILES_WITH_FEATURES\",\n",
    "        metadata_format=\"PASCAL_VOC_rectangles\",\n",
    "        start_index=0,\n",
    "        class_value_field=\"Classvalue\",\n",
    "        buffer_radius=0,\n",
    "        in_mask_polygons=None,\n",
    "        rotation_angle=0,\n",
    "        reference_system=\"MAP_SPACE\",\n",
    "        processing_mode=\"PROCESS_AS_MOSAICKED_IMAGE\",\n",
    "        blacken_around_feature=\"NO_BLACKEN\",\n",
    "        crop_mode=\"FIXED_SIZE\",\n",
    "        in_raster2=None,\n",
    "        in_instance_data=None,\n",
    "        instance_class_value_field=None,\n",
    "        min_polygon_overlap_ratio=0\n",
    "    )"
   ]
  },
  {
   "cell_type": "code",
   "execution_count": 1,
   "metadata": {},
   "outputs": [
    {
     "name": "stdout",
     "output_type": "stream",
     "text": [
      "epoch     train_loss  valid_loss  average_precision  time    \n",
      "0         56.685307   58.941448   0.244435           01:39     \n",
      "1         52.618252   55.362293   0.304323           01:31     \n",
      "2         48.798470   55.017441   0.337629           01:32     \n",
      "3         49.444073   52.383301   0.365801           01:33     \n",
      "4         46.499485   50.763569   0.402648           01:32     \n",
      "5         44.229313   51.975948   0.351285           01:32     \n",
      "6         45.500118   50.549446   0.415116           01:32     \n",
      "7         42.824081   48.165230   0.448628           01:32     \n",
      "8         41.549381   48.827797   0.444910           01:32     \n",
      "9         39.976288   47.378819   0.426998           01:32     \n",
      "10        41.181046   46.194977   0.444613           01:32     \n",
      "11        36.857441   45.513466   0.473475           01:32     \n",
      "12        38.489326   45.277859   0.517168           01:32     \n",
      "13        37.072277   45.016834   0.490803           01:32     \n",
      "14        38.029457   43.713203   0.488488           01:32     \n",
      "15        37.171333   45.000500   0.502701           01:32     \n",
      "16        37.259624   42.673306   0.498649           01:32     \n",
      "17        36.558502   41.754360   0.523349           01:33     \n",
      "18        34.794956   40.857346   0.544198           01:34     \n",
      "19        35.524460   41.094490   0.510540           01:33     \n",
      "20        34.452320   40.079636   0.526616           01:34     \n",
      "21        33.929749   39.011593   0.518244           01:33     \n",
      "22        33.798569   39.021397   0.536784           01:35     \n",
      "23        33.435833   39.215584   0.523649           01:35     \n",
      "24        34.485992   38.690254   0.539932           01:35     \n",
      "25        32.786495   38.632397   0.531228           01:35     \n",
      "26        32.277306   37.714230   0.526988           01:35     \n",
      "27        34.420807   37.647518   0.523254           01:34     \n",
      "28        32.761673   38.056110   0.520728           01:35     \n",
      "29        32.757332   37.493229   0.549794           01:35     \n",
      "30        32.019699   37.739807   0.551234           01:35     \n",
      "31        32.757488   36.955532   0.556339           01:35     \n",
      "32        31.086386   37.112087   0.529888           01:34     \n",
      "33        33.087498   36.631882   0.538899           01:35     \n",
      "34        30.835171   36.684612   0.544990           01:35     \n",
      "35        29.834959   36.536694   0.541564           01:34     \n",
      "36        31.280403   36.034164   0.555095           01:34     \n",
      "37        32.077911   35.770973   0.560889           01:34     \n",
      "38        30.663982   35.861599   0.560257           01:34     \n",
      "39        30.505590   35.671333   0.559500           01:35     \n",
      "40        31.486866   35.727047   0.556135           01:34     \n",
      "41        31.228462   35.415367   0.563067           01:34     \n",
      "42        32.502228   35.789913   0.542151           01:34     \n",
      "43        31.946129   35.512054   0.549675           01:35     \n",
      "44        31.457502   35.356480   0.560694           01:33     \n",
      "45        29.499966   35.161415   0.566156           01:32     \n",
      "46        31.804848   35.375221   0.560123           01:32     \n",
      "47        30.666872   35.256725   0.561321           01:32     \n",
      "48        31.084204   35.087151   0.562285           01:32     \n",
      "49        30.872164   35.304417   0.553549           01:32     \n",
      "Computing model metrics...\n",
      "█\r"
     ]
    }
   ],
   "source": [
    "with arcpy.EnvManager(processorType=\"GPU\"):\n",
    "    arcpy.ia.TrainDeepLearningModel(\n",
    "        in_folder=r\"C:\\Users\\drewt\\Desktop\\Stuff\\college\\GEOG4324\\Palm_Tree_Detection\\Kolovai\\imagechips\",\n",
    "        out_folder=r\"C:\\Users\\drewt\\Desktop\\Stuff\\college\\GEOG4324\\Palm_Tree_Detection\\Kolovai\\classify_palms\",\n",
    "        max_epochs=50,\n",
    "        model_type=\"SSD\",\n",
    "        batch_size=8,\n",
    "        arguments=\"grids #;zooms 1.0;ratios '[1.0, 1.0]';chip_size 224;resize_to #;monitor valid_loss\",\n",
    "        learning_rate=None,\n",
    "        backbone_model=\"RESNET34\",\n",
    "        pretrained_model=None,\n",
    "        validation_percentage=10,\n",
    "        stop_training=\"CONTINUE_TRAINING\",\n",
    "        freeze=\"FREEZE_MODEL\"\n",
    "    )"
   ]
  },
  {
   "cell_type": "code",
   "execution_count": 1,
   "metadata": {},
   "outputs": [],
   "source": [
    "# ArcGIS crashed when computing the model metrics, so they will not show up on my notebook."
   ]
  },
  {
   "cell_type": "code",
   "execution_count": 4,
   "metadata": {},
   "outputs": [
    {
     "name": "stderr",
     "output_type": "stream",
     "text": [
      "AttributeError: 'ArcGISObjectDetector' object has no attribute 'updatePixels'\n"
     ]
    },
    {
     "ename": "AttributeError",
     "evalue": "ResultObject: Get attribute save not found",
     "output_type": "error",
     "traceback": [
      "\u001b[0;31m---------------------------------------------------------------------------\u001b[0m\n\u001b[0;31mAttributeError\u001b[0m                            Traceback (most recent call last)",
      "In  \u001b[0;34m[4]\u001b[0m:\nLine \u001b[0;34m13\u001b[0m:    out_classified_raster.save(\u001b[34mNone\u001b[39;49;00m)\n",
      "\u001b[0;31mAttributeError\u001b[0m: ResultObject: Get attribute save not found\n\u001b[0;31m---------------------------------------------------------------------------\u001b[0m"
     ]
    }
   ],
   "source": [
    "with arcpy.EnvManager(extent='-19519402.0714087 -2403701.11028656 -19519199.3472533 -2403564.13450585 PROJCS[\"unnamed_ellipse_Mercator_2SP\",GEOGCS[\"GCS_unnamed_ellipse\",DATUM[\"D_unknown\",SPHEROID[\"Unknown\",6378137.0,0.0]],PRIMEM[\"Greenwich\",0.0],UNIT[\"Degree\",0.0174532925199433]],PROJECTION[\"Mercator_2SP\"],PARAMETER[\"false_easting\",0.0],PARAMETER[\"false_northing\",0.0],PARAMETER[\"central_meridian\",0.0],PARAMETER[\"standard_parallel_1\",0.0],UNIT[\"Meter\",1.0]]', cellSize=\"Imagery\", processorType=\"GPU\"):\n",
    "    out_classified_raster = arcpy.ia.DetectObjectsUsingDeepLearning(\n",
    "        in_raster=\"Imagery\",\n",
    "        out_detected_objects=r\"C:\\Users\\drewt\\Desktop\\Stuff\\college\\GEOG4324\\Palm_Tree_Detection\\Kolovai\\Kolovai.gdb\\DetectedPalms\",\n",
    "        in_model_definition=r\"C:\\Users\\drewt\\Desktop\\Stuff\\college\\GEOG4324\\Palm_Tree_Detection\\Kolovai\\classify_palms\\classify_palms.dlpk\",\n",
    "        arguments=\"padding 56;threshold 0.2;nms_overlap 0.1;batch_size 8;exclude_pad_detections True;test_time_augmentation False\",\n",
    "        run_nms=\"NO_NMS\",\n",
    "        confidence_score_field=\"Confidence\",\n",
    "        class_value_field=\"Class\",\n",
    "        max_overlap_ratio=0,\n",
    "        processing_mode=\"PROCESS_AS_MOSAICKED_IMAGE\"\n",
    "    )\n",
    "out_classified_raster.save(None)"
   ]
  },
  {
   "cell_type": "code",
   "execution_count": 5,
   "metadata": {},
   "outputs": [
    {
     "name": "stderr",
     "output_type": "stream",
     "text": [
      "AttributeError: 'ArcGISObjectDetector' object has no attribute 'updatePixels'\n"
     ]
    },
    {
     "ename": "AttributeError",
     "evalue": "ResultObject: Get attribute save not found",
     "output_type": "error",
     "traceback": [
      "\u001b[0;31m---------------------------------------------------------------------------\u001b[0m\n\u001b[0;31mAttributeError\u001b[0m                            Traceback (most recent call last)",
      "In  \u001b[0;34m[5]\u001b[0m:\nLine \u001b[0;34m13\u001b[0m:    out_classified_raster.save(\u001b[34mNone\u001b[39;49;00m)\n",
      "\u001b[0;31mAttributeError\u001b[0m: ResultObject: Get attribute save not found\n\u001b[0;31m---------------------------------------------------------------------------\u001b[0m"
     ]
    }
   ],
   "source": [
    "with arcpy.EnvManager(extent=\"DEFAULT\", cellSize=\"Imagery\", processorType=\"GPU\"):\n",
    "    out_classified_raster = arcpy.ia.DetectObjectsUsingDeepLearning(\n",
    "        in_raster=\"Imagery\",\n",
    "        out_detected_objects=r\"C:\\Users\\drewt\\Desktop\\Stuff\\college\\GEOG4324\\Palm_Tree_Detection\\Kolovai\\Kolovai.gdb\\DetectedPalms\",\n",
    "        in_model_definition=r\"C:\\Users\\drewt\\Desktop\\Stuff\\college\\GEOG4324\\Palm_Tree_Detection\\Kolovai\\classify_palms\\classify_palms.dlpk\",\n",
    "        arguments=\"padding 56;threshold 0.5;nms_overlap 0.01;batch_size 8;exclude_pad_detections True;test_time_augmentation False\",\n",
    "        run_nms=\"NO_NMS\",\n",
    "        confidence_score_field=\"Confidence\",\n",
    "        class_value_field=\"Class\",\n",
    "        max_overlap_ratio=0,\n",
    "        processing_mode=\"PROCESS_AS_MOSAICKED_IMAGE\"\n",
    "    )\n",
    "out_classified_raster.save(None)"
   ]
  },
  {
   "cell_type": "code",
   "execution_count": 6,
   "metadata": {},
   "outputs": [
    {
     "data": {
      "text/html": [
       "<div class='gpresult'><h2>Messages</h2><div id='messages' data-messages='[\"Start Time: Wednesday, April 12, 2023 9:18:20 PM\",\"Succeeded at Wednesday, April 12, 2023 9:18:51 PM (Elapsed Time: 30.55 seconds)\"]' data-show='true'><div id = 'default' /></div></div>"
      ],
      "text/plain": [
       "<geoprocessing server result object object at 0x000001BB1DDF2F60>"
      ]
     },
     "execution_count": 6,
     "metadata": {},
     "output_type": "execute_result"
    }
   ],
   "source": [
    "arcpy.ia.NonMaximumSuppression(\n",
    "    in_featureclass=\"DetectedPalms\",\n",
    "    confidence_score_field=\"Confidence\",\n",
    "    out_featureclass=r\"C:\\Users\\drewt\\Desktop\\Stuff\\college\\GEOG4324\\Palm_Tree_Detection\\Kolovai\\Kolovai.gdb\\DetectedPalms_NMS\",\n",
    "    class_value_field=\"Class\",\n",
    "    max_overlap_ratio=0.5\n",
    ")"
   ]
  },
  {
   "cell_type": "code",
   "execution_count": 7,
   "metadata": {},
   "outputs": [
    {
     "data": {
      "text/html": [
       "<div class='gpresult'><h2>Messages</h2><div id='messages' data-messages='[\"Start Time: Wednesday, April 12, 2023 9:21:40 PM\",\"Succeeded at Wednesday, April 12, 2023 9:21:41 PM (Elapsed Time: 0.80 seconds)\"]' data-show='true'><div id = 'default' /></div></div>"
      ],
      "text/plain": [
       "<Result 'C:\\\\Users\\\\drewt\\\\Desktop\\\\Stuff\\\\college\\\\GEOG4324\\\\Palm_Tree_Detection\\\\Kolovai\\\\Kolovai.gdb\\\\PalmTree_Points'>"
      ]
     },
     "execution_count": 7,
     "metadata": {},
     "output_type": "execute_result"
    }
   ],
   "source": [
    "arcpy.management.FeatureToPoint(\n",
    "    in_features=\"Detected Palm Trees\",\n",
    "    out_feature_class=r\"C:\\Users\\drewt\\Desktop\\Stuff\\college\\GEOG4324\\Palm_Tree_Detection\\Kolovai\\Kolovai.gdb\\PalmTree_Points\",\n",
    "    point_location=\"CENTROID\"\n",
    ")"
   ]
  },
  {
   "cell_type": "code",
   "execution_count": 8,
   "metadata": {},
   "outputs": [
    {
     "data": {
      "text/html": [
       "<div class='gpresult'><h2>Messages</h2><div id='messages' data-messages='[\"Start Time: Wednesday, April 12, 2023 9:22:19 PM\",\"Succeeded at Wednesday, April 12, 2023 9:22:20 PM (Elapsed Time: 0.87 seconds)\"]' data-show='true'><div id = 'default' /></div></div>"
      ],
      "text/plain": [
       "<Result 'C:\\\\Users\\\\drewt\\\\Desktop\\\\Stuff\\\\college\\\\GEOG4324\\\\Palm_Tree_Detection\\\\Kolovai\\\\Kolovai.gdb\\\\PalmTreeBuffer'>"
      ]
     },
     "execution_count": 8,
     "metadata": {},
     "output_type": "execute_result"
    }
   ],
   "source": [
    "arcpy.analysis.PairwiseBuffer(\n",
    "    in_features=\"PalmTree_Points\",\n",
    "    out_feature_class=r\"C:\\Users\\drewt\\Desktop\\Stuff\\college\\GEOG4324\\Palm_Tree_Detection\\Kolovai\\Kolovai.gdb\\PalmTreeBuffer\",\n",
    "    buffer_distance_or_field=\"3 Meters\",\n",
    "    dissolve_option=\"NONE\",\n",
    "    dissolve_field=None,\n",
    "    method=\"PLANAR\",\n",
    "    max_deviation=\"0 Meters\"\n",
    ")"
   ]
  },
  {
   "cell_type": "code",
   "execution_count": 9,
   "metadata": {},
   "outputs": [
    {
     "data": {
      "text/html": [
       "<div class='gpresult'><h2>Messages</h2><div id='messages' data-messages='[\"Start Time: Wednesday, April 12, 2023 9:23:39 PM\",\"Value raster being used as snap raster; this is new default behavior.\",\"Succeeded at Wednesday, April 12, 2023 9:23:54 PM (Elapsed Time: 15.15 seconds)\"]' data-show='true'><div id = 'default' /></div></div>"
      ],
      "text/plain": [
       "<geoprocessing server result object object at 0x000001BB2BC48840>"
      ]
     },
     "execution_count": 9,
     "metadata": {},
     "output_type": "execute_result"
    }
   ],
   "source": [
    "arcpy.ia.ZonalStatisticsAsTable(\n",
    "    in_zone_data=\"PalmTreeBuffer\",\n",
    "    zone_field=\"ORIG_FID\",\n",
    "    in_value_raster=\"VARI\",\n",
    "    out_table=r\"C:\\Users\\drewt\\Desktop\\Stuff\\college\\GEOG4324\\Palm_Tree_Detection\\Kolovai\\Kolovai.gdb\\MeanVARI_per_Palm\",\n",
    "    ignore_nodata=\"DATA\",\n",
    "    statistics_type=\"MEAN\",\n",
    "    process_as_multidimensional=\"CURRENT_SLICE\",\n",
    "    percentile_values=90,\n",
    "    percentile_interpolation_type=\"AUTO_DETECT\",\n",
    "    circular_calculation=\"ARITHMETIC\",\n",
    "    circular_wrap_value=360\n",
    ")"
   ]
  },
  {
   "cell_type": "code",
   "execution_count": 10,
   "metadata": {},
   "outputs": [
    {
     "data": {
      "text/html": [
       "<div class='gpresult'><h2>Messages</h2><div id='messages' data-messages='[\"Start Time: Wednesday, April 12, 2023 9:24:37 PM\",\"Succeeded at Wednesday, April 12, 2023 9:24:38 PM (Elapsed Time: 1.25 seconds)\"]' data-show='true'><div id = 'default' /></div></div>"
      ],
      "text/plain": [
       "<Result 'PalmTreeBuffer'>"
      ]
     },
     "execution_count": 10,
     "metadata": {},
     "output_type": "execute_result"
    }
   ],
   "source": [
    "arcpy.management.JoinField(\n",
    "    in_data=\"PalmTreeBuffer\",\n",
    "    in_field=\"ORIG_FID\",\n",
    "    join_table=\"MeanVARI_per_Palm\",\n",
    "    join_field=\"ORIG_FID\",\n",
    "    fields=\"MEAN\",\n",
    "    fm_option=\"NOT_USE_FM\",\n",
    "    field_mapping=None\n",
    ")"
   ]
  }
 ],
 "metadata": {
  "kernelspec": {
   "display_name": "Python 3 (ipykernel)",
   "language": "python",
   "name": "python3"
  },
  "language_info": {
   "codemirror_mode": {
    "name": "ipython",
    "version": 3
   },
   "file_extension": ".py",
   "mimetype": "text/x-python",
   "name": "python",
   "nbconvert_exporter": "python",
   "pygments_lexer": "ipython3",
   "version": "3.9.16"
  }
 },
 "nbformat": 4,
 "nbformat_minor": 2
}
