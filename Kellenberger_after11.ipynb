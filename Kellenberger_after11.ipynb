{
 "cells": [
  {
   "cell_type": "markdown",
   "id": "febc82a3",
   "metadata": {},
   "source": [
    "# after11"
   ]
  },
  {
   "cell_type": "code",
   "execution_count": 31,
   "id": "ba2947ec",
   "metadata": {},
   "outputs": [],
   "source": [
    "import shapely\n",
    "from shapely.geometry import Polygon"
   ]
  },
  {
   "cell_type": "code",
   "execution_count": 32,
   "id": "0d4e36a9",
   "metadata": {},
   "outputs": [],
   "source": [
    "#intersect2d written with shapely\n",
    "\n",
    "def intersect2d_shapely(LLX1, LLY1, URX1, URY1, LLX2, LLY2, URX2, URY2):\n",
    "    p1 = Polygon([[LLX1,LLY1], [LLX1,URY1], [URX1,URY1], [URX1,LLY1]])\n",
    "    p2 = Polygon([[LLX2,LLY2], [LLX2,URY2], [URX2,URY2], [URX2,LLY2]])\n",
    "\n",
    "    return p1.intersects(p2)"
   ]
  },
  {
   "cell_type": "code",
   "execution_count": 33,
   "id": "99f0c1cf",
   "metadata": {},
   "outputs": [],
   "source": [
    "#original intersect2d code\n",
    "\n",
    "def intersect2d(LLX1, LLY1, URX1, URY1, LLX2, LLY2, URX2, URY2):\n",
    "    if URY1 < LLY2:\n",
    "        return False\n",
    "    if URX1 < LLX2:\n",
    "        return False\n",
    "    if URY2 < LLY1:\n",
    "        return False\n",
    "    if URX2 < LLX1:\n",
    "        return False\n",
    "    else:\n",
    "        return True"
   ]
  },
  {
   "cell_type": "code",
   "execution_count": 34,
   "id": "4830b0ed",
   "metadata": {},
   "outputs": [
    {
     "name": "stdout",
     "output_type": "stream",
     "text": [
      "False\n",
      "False\n"
     ]
    }
   ],
   "source": [
    "#test 1\n",
    "print(intersect2d_shapely(0,0,3,3,4,4,5,5))\n",
    "print(intersect2d(0,0,3,3,4,4,5,5))"
   ]
  },
  {
   "cell_type": "code",
   "execution_count": 35,
   "id": "b2c12652",
   "metadata": {},
   "outputs": [
    {
     "name": "stdout",
     "output_type": "stream",
     "text": [
      "True\n",
      "True\n"
     ]
    }
   ],
   "source": [
    "#test 2\n",
    "print(intersect2d_shapely(0,0,3,3,2,2,4,4))\n",
    "print(intersect2d(0,0,3,3,2,2,4,4))"
   ]
  },
  {
   "cell_type": "code",
   "execution_count": 36,
   "id": "838ce105",
   "metadata": {},
   "outputs": [
    {
     "name": "stdout",
     "output_type": "stream",
     "text": [
      "True\n",
      "True\n"
     ]
    }
   ],
   "source": [
    "#test 3\n",
    "print(intersect2d_shapely(0,0,3,3,-1,-1,2,2))\n",
    "print(intersect2d(0,0,3,3,-1,-1,2,2))"
   ]
  },
  {
   "cell_type": "code",
   "execution_count": 37,
   "id": "69908104",
   "metadata": {},
   "outputs": [
    {
     "name": "stdout",
     "output_type": "stream",
     "text": [
      "True\n",
      "True\n"
     ]
    }
   ],
   "source": [
    "#test 4\n",
    "print(intersect2d_shapely(0,0,3,3,2,-1,4,2))\n",
    "print(intersect2d(0,0,3,3,2,-1,4,2))"
   ]
  },
  {
   "cell_type": "code",
   "execution_count": 38,
   "id": "5b6a5807",
   "metadata": {},
   "outputs": [
    {
     "name": "stdout",
     "output_type": "stream",
     "text": [
      "True\n",
      "True\n"
     ]
    }
   ],
   "source": [
    "#test 5\n",
    "print(intersect2d_shapely(0,0,3,3,-1,2,2,4))\n",
    "print(intersect2d(0,0,3,3,-1,2,2,4))"
   ]
  },
  {
   "cell_type": "code",
   "execution_count": 39,
   "id": "e9be8f47",
   "metadata": {},
   "outputs": [
    {
     "name": "stdout",
     "output_type": "stream",
     "text": [
      "True\n",
      "True\n"
     ]
    }
   ],
   "source": [
    "#test 6\n",
    "print(intersect2d_shapely(0,0,3,3,-1,-1,4,4))\n",
    "print(intersect2d(0,0,3,3,-1,-1,4,4))"
   ]
  },
  {
   "cell_type": "code",
   "execution_count": 40,
   "id": "d509c6b2",
   "metadata": {},
   "outputs": [
    {
     "name": "stdout",
     "output_type": "stream",
     "text": [
      "True\n",
      "True\n"
     ]
    }
   ],
   "source": [
    "#test 7\n",
    "print(intersect2d_shapely(0,0,3,3,1,1,2,2))\n",
    "print(intersect2d(0,0,3,3,1,1,2,2))"
   ]
  },
  {
   "cell_type": "code",
   "execution_count": 41,
   "id": "268390e2",
   "metadata": {},
   "outputs": [
    {
     "name": "stdout",
     "output_type": "stream",
     "text": [
      "True\n",
      "True\n"
     ]
    }
   ],
   "source": [
    "#test 8\n",
    "print(intersect2d_shapely(0,3,6,5,3,0,5,6))\n",
    "print(intersect2d(0,3,6,5,3,0,5,6))"
   ]
  },
  {
   "cell_type": "code",
   "execution_count": 43,
   "id": "276f2d92",
   "metadata": {},
   "outputs": [
    {
     "name": "stdout",
     "output_type": "stream",
     "text": [
      "False\n",
      "False\n"
     ]
    }
   ],
   "source": [
    "#self-authored test - should be False\n",
    "print(intersect2d_shapely(0,0,1,1,2,2,3,3))\n",
    "print(intersect2d(0,0,1,1,2,2,3,3))"
   ]
  },
  {
   "cell_type": "code",
   "execution_count": 44,
   "id": "f1b789d0",
   "metadata": {},
   "outputs": [
    {
     "name": "stdout",
     "output_type": "stream",
     "text": [
      "True\n",
      "True\n"
     ]
    }
   ],
   "source": [
    "#self-uathored test - should be True\n",
    "print(intersect2d_shapely(0,0,2,2,2,0,4,2))\n",
    "print(intersect2d(0,0,2,2,2,0,4,2))"
   ]
  }
 ],
 "metadata": {
  "kernelspec": {
   "display_name": "Python 3 (ipykernel)",
   "language": "python",
   "name": "python3"
  },
  "language_info": {
   "codemirror_mode": {
    "name": "ipython",
    "version": 3
   },
   "file_extension": ".py",
   "mimetype": "text/x-python",
   "name": "python",
   "nbconvert_exporter": "python",
   "pygments_lexer": "ipython3",
   "version": "3.9.16"
  }
 },
 "nbformat": 4,
 "nbformat_minor": 5
}
