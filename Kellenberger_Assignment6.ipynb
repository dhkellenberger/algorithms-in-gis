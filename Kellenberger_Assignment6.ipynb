{
 "cells": [
  {
   "cell_type": "code",
   "execution_count": 13,
   "metadata": {},
   "outputs": [],
   "source": [
    "import arcpy\n",
    "from arcgis.gis import GIS\n",
    "\n",
    "import pandas as pd\n",
    "from arcgis.features import GeoAccessor, GeoSeriesAccessor\n",
    "\n",
    "import numpy as np\n",
    "import matplotlib.pyplot as plt"
   ]
  },
  {
   "cell_type": "code",
   "execution_count": 4,
   "metadata": {},
   "outputs": [],
   "source": [
    "gis = GIS()"
   ]
  },
  {
   "cell_type": "markdown",
   "metadata": {},
   "source": [
    "## Question 1"
   ]
  },
  {
   "cell_type": "code",
   "execution_count": 5,
   "metadata": {},
   "outputs": [],
   "source": [
    "arcpy.env.workspace = r'C:\\Users\\drewt\\Desktop\\Stuff\\college\\GEOG4324\\Kellenberger_Assignment6'\n",
    "\n",
    "buildings = 'Buildings.shp'\n",
    "pavement = 'Edge_of_Pavement.shp'\n",
    "sidewalks = 'Sidewalks.shp'\n",
    "town = 'Corporate_Limits.shp'"
   ]
  },
  {
   "cell_type": "code",
   "execution_count": 15,
   "metadata": {},
   "outputs": [
    {
     "data": {
      "text/html": [
       "<div class='gpresult'><h2>Messages</h2><div id='messages' data-messages='[\"Start Time: Tuesday, March 21, 2023 4:36:25 PM\",\"WARNING 000012: area already exists\",\"Succeeded at Tuesday, March 21, 2023 4:36:25 PM (Elapsed Time: 0.01 seconds)\"]' data-show='true'><div id = 'default' /></div></div>"
      ],
      "text/plain": [
       "<Result 'Corporate_Limits.shp'>"
      ]
     },
     "execution_count": 15,
     "metadata": {},
     "output_type": "execute_result"
    }
   ],
   "source": [
    "arcpy.management.AddField(buildings, \"area\", \"FLOAT\")\n",
    "arcpy.management.AddField(pavement, \"area\", \"FLOAT\")\n",
    "arcpy.management.AddField(sidewalks, \"area\", \"FLOAT\")\n",
    "arcpy.management.AddField(town, \"area\", \"FLOAT\")"
   ]
  },
  {
   "cell_type": "code",
   "execution_count": 16,
   "metadata": {},
   "outputs": [
    {
     "data": {
      "text/html": [
       "<div class='gpresult'><h2>Messages</h2><div id='messages' data-messages='[\"Start Time: Tuesday, March 21, 2023 4:36:39 PM\",\"Succeeded at Tuesday, March 21, 2023 4:36:39 PM (Elapsed Time: 0.16 seconds)\"]' data-show='true'><div id = 'default' /></div></div>"
      ],
      "text/plain": [
       "<Result 'C:\\\\Users\\\\drewt\\\\Desktop\\\\Stuff\\\\college\\\\GEOG4324\\\\Kellenberger_Assignment6\\\\Corporate_Limits.shp'>"
      ]
     },
     "execution_count": 16,
     "metadata": {},
     "output_type": "execute_result"
    }
   ],
   "source": [
    "arcpy.management.CalculateGeometryAttributes(buildings, [['area', \"AREA_GEODESIC\"]], \"\", \"SQUARE_METERS\")\n",
    "arcpy.management.CalculateGeometryAttributes(pavement, [['area', \"AREA_GEODESIC\"]], \"\", \"SQUARE_METERS\")\n",
    "arcpy.management.CalculateGeometryAttributes(sidewalks, [['area', \"AREA_GEODESIC\"]], \"\", \"SQUARE_METERS\")\n",
    "arcpy.management.CalculateGeometryAttributes(town, [['area', \"AREA_GEODESIC\"]], \"\", \"SQUARE_METERS\")"
   ]
  },
  {
   "cell_type": "code",
   "execution_count": 6,
   "metadata": {},
   "outputs": [],
   "source": [
    "buildings_df = pd.DataFrame.spatial.from_featureclass(buildings)\n",
    "pavement_df = pd.DataFrame.spatial.from_featureclass(pavement)\n",
    "sidewalks_df = pd.DataFrame.spatial.from_featureclass(sidewalks)\n",
    "town_df = pd.DataFrame.spatial.from_featureclass(town)"
   ]
  },
  {
   "cell_type": "code",
   "execution_count": 7,
   "metadata": {},
   "outputs": [],
   "source": [
    "buildings_sum = buildings_df['area'].sum()\n",
    "pavement_sum = pavement_df['area'].sum()\n",
    "sidewalks_sum = sidewalks_df['area'].sum()\n",
    "town_sum = town_df['area'].sum()"
   ]
  },
  {
   "cell_type": "code",
   "execution_count": 8,
   "metadata": {},
   "outputs": [
    {
     "name": "stdout",
     "output_type": "stream",
     "text": [
      "% of Town Land Area covered by Buildings: 4.557776453125812%\n",
      "% of Town Land Area covered by Pavement: 11.875415838393629%\n",
      "% of Town Land Area covered by Sidewalks: 1.724471525904234%\n"
     ]
    }
   ],
   "source": [
    "print('% of Town Land Area covered by Buildings: ' + str((buildings_sum/town_sum)*100) + \"%\")\n",
    "print('% of Town Land Area covered by Pavement: ' + str((pavement_sum/town_sum)*100) + \"%\")\n",
    "print('% of Town Land Area covered by Sidewalks: ' + str((sidewalks_sum/town_sum)*100) + \"%\")"
   ]
  },
  {
   "cell_type": "markdown",
   "metadata": {},
   "source": [
    "## Question 2"
   ]
  },
  {
   "cell_type": "code",
   "execution_count": 20,
   "metadata": {},
   "outputs": [],
   "source": [
    "sidewalks_plot = sidewalks_sum/sidewalks_sum\n",
    "buildings_plot = buildings_sum/sidewalks_sum\n",
    "pavement_plot = pavement_sum/sidewalks_sum\n",
    "\n",
    "x = [\"Sidewalks\", \"Buildings\", \"Pavement\"]\n",
    "height = [sidewalks_plot, buildings_plot, pavement_plot]"
   ]
  },
  {
   "cell_type": "code",
   "execution_count": 21,
   "metadata": {
    "scrolled": true
   },
   "outputs": [
    {
     "data": {
      "text/plain": [
       "<BarContainer object of 3 artists>"
      ]
     },
     "execution_count": 21,
     "metadata": {},
     "output_type": "execute_result"
    },
    {
     "data": {
      "image/png": "[encoded data removed]",
      "text/plain": [
       "<Figure size 432x288 with 1 Axes>"
      ]
     },
     "metadata": {
      "needs_background": "light"
     },
     "output_type": "display_data"
    }
   ],
   "source": [
    "plt.bar(x, height)"
   ]
  },
  {
   "cell_type": "markdown",
   "metadata": {},
   "source": [
    "## Question 3"
   ]
  },
  {
   "cell_type": "code",
   "execution_count": 24,
   "metadata": {},
   "outputs": [
    {
     "data": {
      "text/html": [
       "<div class='gpresult'><h2>Messages</h2><div id='messages' data-messages='[\"Start Time: Thursday, March 23, 2023 4:14:13 PM\",\"Succeeded at Thursday, March 23, 2023 4:14:13 PM (Elapsed Time: 0.08 seconds)\"]' data-show='true'><div id = 'default' /></div></div>"
      ],
      "text/plain": [
       "<Result 'C:\\\\Users\\\\drewt\\\\Desktop\\\\Stuff\\\\college\\\\GEOG4324\\\\Kellenberger_Assignment6\\\\townMBG.shp'>"
      ]
     },
     "execution_count": 24,
     "metadata": {},
     "output_type": "execute_result"
    }
   ],
   "source": [
    "arcpy.management.MinimumBoundingGeometry(town, r\"C:\\Users\\drewt\\Desktop\\Stuff\\college\\GEOG4324\\Kellenberger_Assignment6\\townMBG\", \"CONVEX_HULL\") "
   ]
  },
  {
   "cell_type": "code",
   "execution_count": 26,
   "metadata": {},
   "outputs": [],
   "source": [
    "townMBG = 'townMBG.shp'\n",
    "\n",
    "arcpy.management.AddField(townMBG, \"area\", \"FLOAT\")\n",
    "arcpy.management.CalculateGeometryAttributes(townMBG, [['area', \"AREA_GEODESIC\"]], \"\", \"SQUARE_METERS\")\n",
    "townMBG_df = pd.DataFrame.spatial.from_featureclass(townMBG)\n",
    "townMBG_sum = townMBG_df['area'].sum()"
   ]
  },
  {
   "cell_type": "code",
   "execution_count": 27,
   "metadata": {},
   "outputs": [
    {
     "name": "stdout",
     "output_type": "stream",
     "text": [
      "% of Town Land Area covered by Buildings: 3.516607304533005%\n",
      "% of Town Land Area covered by Pavement: 9.162620087042958%\n",
      "% of Town Land Area covered by Sidewalks: 1.3305367709061289%\n"
     ]
    }
   ],
   "source": [
    "print('% of Town Land Area covered by Buildings: ' + str((buildings_sum/townMBG_sum)*100) + \"%\")\n",
    "print('% of Town Land Area covered by Pavement: ' + str((pavement_sum/townMBG_sum)*100) + \"%\")\n",
    "print('% of Town Land Area covered by Sidewalks: ' + str((sidewalks_sum/townMBG_sum)*100) + \"%\")"
   ]
  },
  {
   "cell_type": "code",
   "execution_count": null,
   "metadata": {},
   "outputs": [],
   "source": []
  }
 ],
 "metadata": {
  "kernelspec": {
   "display_name": "Python 3",
   "language": "python",
   "name": "python3"
  },
  "language_info": {
   "codemirror_mode": {
    "name": "ipython",
    "version": 3
   },
   "file_extension": ".py",
   "mimetype": "text/x-python",
   "name": "python",
   "nbconvert_exporter": "python",
   "pygments_lexer": "ipython3",
   "version": "3.9.11"
  }
 },
 "nbformat": 4,
 "nbformat_minor": 2
}
